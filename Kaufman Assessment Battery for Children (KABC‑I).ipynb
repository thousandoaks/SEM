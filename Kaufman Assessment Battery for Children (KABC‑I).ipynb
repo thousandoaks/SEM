{
  "cells": [
    {
      "metadata": {
        "trusted": true
      },
      "cell_type": "code",
      "source": "library(lavaan)",
      "execution_count": 1,
      "outputs": [
        {
          "output_type": "stream",
          "text": "This is lavaan 0.6-3\nlavaan is BETA software! Please report any bugs.\n",
          "name": "stderr"
        }
      ]
    },
    {
      "metadata": {
        "trusted": true
      },
      "cell_type": "code",
      "source": "##read in data and data  preparation\n\nex9dat <-scan('https://www.guilford.com/add/kline_old/chapter9/mplus/kabc-cfa-mplus.dat')\nmySDs <- ex9dat[1:8]\nmycors <- lower2full(ex9dat[9:length(ex9dat)])\nmyvarcov <- cor2cov(mycors, mySDs)\n\nmynames <- c(\"handmov\", \"numbrec\", \"wordord\", \"gesclos\", \"triangle\", \"spatmem\", \"matanalg\", \"photser\")\ncolnames(myvarcov) <- mynames\nrownames(myvarcov) <- mynames\n\nnObs <- 200\n",
      "execution_count": 3,
      "outputs": [
        {
          "output_type": "stream",
          "text": "Warning message:\n“'lower2full' is deprecated.\nUse 'lav_matrix_lower2full' instead.\nSee help(\"Deprecated\") and help(\"lavaan-deprecated\").”",
          "name": "stderr"
        }
      ]
    },
    {
      "metadata": {
        "trusted": true
      },
      "cell_type": "code",
      "source": "#Specify Model\n\nmod1ex9 <- 'Sequent =~ handmov + numbrec + wordord\n\t\t\tSimult =~ gesclos + triangle + spatmem + matanalg + photser\n            Sequent ~~ Simult'\n",
      "execution_count": 8,
      "outputs": []
    },
    {
      "metadata": {
        "trusted": true
      },
      "cell_type": "code",
      "source": "#Fit Model\nfit1 <- cfa(mod1ex9, sample.nobs=nObs, sample.cov=myvarcov)\n",
      "execution_count": 9,
      "outputs": []
    },
    {
      "metadata": {
        "trusted": true,
        "scrolled": false
      },
      "cell_type": "code",
      "source": "summary(fit1, fit.measures=TRUE, standardized=TRUE, rsquare = TRUE, modindices=TRUE)",
      "execution_count": 10,
      "outputs": [
        {
          "output_type": "stream",
          "text": "lavaan 0.6-3 ended normally after 43 iterations\n\n  Optimization method                           NLMINB\n  Number of free parameters                         17\n\n  Number of observations                           200\n\n  Estimator                                         ML\n  Model Fit Test Statistic                      38.325\n  Degrees of freedom                                19\n  P-value (Chi-square)                           0.005\n\nModel test baseline model:\n\n  Minimum Function Test Statistic              498.336\n  Degrees of freedom                                28\n  P-value                                        0.000\n\nUser model versus baseline model:\n\n  Comparative Fit Index (CFI)                    0.959\n  Tucker-Lewis Index (TLI)                       0.939\n\nLoglikelihood and Information Criteria:\n\n  Loglikelihood user model (H0)              -3779.041\n  Loglikelihood unrestricted model (H1)      -3759.878\n\n  Number of free parameters                         17\n  Akaike (AIC)                                7592.082\n  Bayesian (BIC)                              7648.153\n  Sample-size adjusted Bayesian (BIC)         7594.295\n\nRoot Mean Square Error of Approximation:\n\n  RMSEA                                          0.071\n  90 Percent Confidence Interval          0.038  0.104\n  P-value RMSEA <= 0.05                          0.132\n\nStandardized Root Mean Square Residual:\n\n  SRMR                                           0.072\n\nParameter Estimates:\n\n  Information                                 Expected\n  Information saturated (h1) model          Structured\n  Standard Errors                             Standard\n\nLatent Variables:\n                   Estimate  Std.Err  z-value  P(>|z|)   Std.lv  Std.all\n  Sequent =~                                                            \n    handmov           1.000                               1.685    0.497\n    numbrec           1.147    0.181    6.341    0.000    1.932    0.807\n    wordord           1.388    0.219    6.340    0.000    2.338    0.808\n  Simult =~                                                             \n    gesclos           1.000                               1.354    0.503\n    triangle          1.445    0.227    6.352    0.000    1.957    0.726\n    spatmem           2.029    0.335    6.062    0.000    2.749    0.656\n    matanalg          1.212    0.212    5.717    0.000    1.642    0.588\n    photser           1.727    0.265    6.521    0.000    2.339    0.782\n\nCovariances:\n                   Estimate  Std.Err  z-value  P(>|z|)   Std.lv  Std.all\n  Sequent ~~                                                            \n    Simult            1.271    0.324    3.918    0.000    0.557    0.557\n\nVariances:\n                   Estimate  Std.Err  z-value  P(>|z|)   Std.lv  Std.all\n   .handmov           8.664    0.938    9.237    0.000    8.664    0.753\n   .numbrec           1.998    0.414    4.831    0.000    1.998    0.349\n   .wordord           2.902    0.604    4.801    0.000    2.902    0.347\n   .gesclos           5.419    0.585    9.261    0.000    5.419    0.747\n   .triangle          3.426    0.458    7.479    0.000    3.426    0.472\n   .spatmem           9.997    1.202    8.320    0.000    9.997    0.570\n   .matanalg          5.105    0.578    8.838    0.000    5.105    0.654\n   .photser           3.482    0.537    6.482    0.000    3.482    0.389\n    Sequent           2.838    0.838    3.389    0.001    1.000    1.000\n    Simult            1.834    0.530    3.459    0.001    1.000    1.000\n\nR-Square:\n                   Estimate\n    handmov           0.247\n    numbrec           0.651\n    wordord           0.653\n    gesclos           0.253\n    triangle          0.528\n    spatmem           0.430\n    matanalg          0.346\n    photser           0.611\n\nModification Indices:\n\n        lhs op      rhs     mi    epc sepc.lv sepc.all sepc.nox\n20  Sequent =~  gesclos  2.902 -0.254  -0.429   -0.159   -0.159\n21  Sequent =~ triangle  0.822 -0.124  -0.209   -0.078   -0.078\n22  Sequent =~  spatmem  0.292  0.118   0.198    0.047    0.047\n23  Sequent =~ matanalg  3.246  0.269   0.454    0.162    0.162\n24  Sequent =~  photser  0.014  0.018   0.030    0.010    0.010\n25   Simult =~  handmov 20.097  1.054   1.428    0.421    0.421\n26   Simult =~  numbrec  7.013 -0.510  -0.691   -0.289   -0.289\n27   Simult =~  wordord  0.310 -0.130  -0.176   -0.061   -0.061\n28  handmov ~~  numbrec  0.310 -0.303  -0.303   -0.073   -0.073\n29  handmov ~~  wordord  7.013 -1.746  -1.746   -0.348   -0.348\n30  handmov ~~  gesclos  0.082  0.148   0.148    0.022    0.022\n31  handmov ~~ triangle  0.001  0.010   0.010    0.002    0.002\n32  handmov ~~  spatmem  4.847  1.609   1.609    0.173    0.173\n33  handmov ~~ matanalg  3.799  0.995   0.995    0.150    0.150\n34  handmov ~~  photser  1.030  0.481   0.481    0.088    0.088\n35  numbrec ~~  wordord 20.097  4.741   4.741    1.969    1.969\n36  numbrec ~~  gesclos  2.005 -0.423  -0.423   -0.129   -0.129\n37  numbrec ~~ triangle  0.075 -0.072  -0.072   -0.028   -0.028\n38  numbrec ~~  spatmem  0.140  0.160   0.160    0.036    0.036\n39  numbrec ~~ matanalg  1.177  0.322   0.322    0.101    0.101\n40  numbrec ~~  photser  3.148 -0.502  -0.502   -0.190   -0.190\n41  wordord ~~  gesclos  0.061 -0.089  -0.089   -0.022   -0.022\n42  wordord ~~ triangle  0.263 -0.163  -0.163   -0.052   -0.052\n43  wordord ~~  spatmem  1.044 -0.527  -0.527   -0.098   -0.098\n44  wordord ~~ matanalg  0.230 -0.172  -0.172   -0.045   -0.045\n45  wordord ~~  photser  1.798  0.459   0.459    0.144    0.144\n46  gesclos ~~ triangle  0.193  0.168   0.168    0.039    0.039\n47  gesclos ~~  spatmem  0.578 -0.463  -0.463   -0.063   -0.063\n48  gesclos ~~ matanalg  0.107  0.137   0.137    0.026    0.026\n49  gesclos ~~  photser  0.947  0.413   0.413    0.095    0.095\n50 triangle ~~  spatmem  0.068 -0.156  -0.156   -0.027   -0.027\n51 triangle ~~ matanalg  0.058 -0.095  -0.095   -0.023   -0.023\n52 triangle ~~  photser  0.585  0.358   0.358    0.104    0.104\n53  spatmem ~~ matanalg  0.475  0.426   0.426    0.060    0.060\n54  spatmem ~~  photser  0.020 -0.097  -0.097   -0.016   -0.016\n55 matanalg ~~  photser  2.727 -0.733  -0.733   -0.174   -0.174\n",
          "name": "stdout"
        }
      ]
    },
    {
      "metadata": {
        "trusted": true
      },
      "cell_type": "code",
      "source": "0.807*0.557",
      "execution_count": 13,
      "outputs": [
        {
          "output_type": "display_data",
          "data": {
            "text/plain": "[1] 0.449499",
            "text/latex": "0.449499",
            "text/markdown": "0.449499",
            "text/html": "0.449499"
          },
          "metadata": {}
        }
      ]
    },
    {
      "metadata": {
        "trusted": true
      },
      "cell_type": "code",
      "source": "#Specify Model\n\nmod1ex10 <- 'Sequent =~  handmov + numbrec + wordord\n\t\t\tSimult =~ gesclos + triangle + spatmem + matanalg + photser + handmov \n            Sequent ~~ Simult'\n",
      "execution_count": 17,
      "outputs": []
    },
    {
      "metadata": {
        "trusted": true
      },
      "cell_type": "code",
      "source": "#Fit Model\nfit2 <- cfa(mod1ex10, sample.nobs=nObs, sample.cov=myvarcov)\n",
      "execution_count": 18,
      "outputs": []
    },
    {
      "metadata": {
        "trusted": true,
        "scrolled": false
      },
      "cell_type": "code",
      "source": "summary(fit2, fit.measures=TRUE, standardized=TRUE, rsquare = TRUE, modindices=TRUE)",
      "execution_count": 19,
      "outputs": [
        {
          "output_type": "stream",
          "text": "lavaan 0.6-3 ended normally after 49 iterations\n\n  Optimization method                           NLMINB\n  Number of free parameters                         18\n\n  Number of observations                           200\n\n  Estimator                                         ML\n  Model Fit Test Statistic                      18.108\n  Degrees of freedom                                18\n  P-value (Chi-square)                           0.449\n\nModel test baseline model:\n\n  Minimum Function Test Statistic              498.336\n  Degrees of freedom                                28\n  P-value                                        0.000\n\nUser model versus baseline model:\n\n  Comparative Fit Index (CFI)                    1.000\n  Tucker-Lewis Index (TLI)                       1.000\n\nLoglikelihood and Information Criteria:\n\n  Loglikelihood user model (H0)              -3768.932\n  Loglikelihood unrestricted model (H1)      -3759.878\n\n  Number of free parameters                         18\n  Akaike (AIC)                                7573.864\n  Bayesian (BIC)                              7633.234\n  Sample-size adjusted Bayesian (BIC)         7576.208\n\nRoot Mean Square Error of Approximation:\n\n  RMSEA                                          0.005\n  90 Percent Confidence Interval          0.000  0.063\n  P-value RMSEA <= 0.05                          0.859\n\nStandardized Root Mean Square Residual:\n\n  SRMR                                           0.035\n\nParameter Estimates:\n\n  Information                                 Expected\n  Information saturated (h1) model          Structured\n  Standard Errors                             Standard\n\nLatent Variables:\n                   Estimate  Std.Err  z-value  P(>|z|)   Std.lv  Std.all\n  Sequent =~                                                            \n    handmov           1.000                               0.857    0.253\n    numbrec           2.285    0.777    2.941    0.003    1.958    0.818\n    wordord           2.767    0.941    2.939    0.003    2.370    0.819\n  Simult =~                                                             \n    gesclos           1.000                               1.345    0.500\n    triangle          1.436    0.228    6.307    0.000    1.932    0.717\n    spatmem           2.074    0.340    6.095    0.000    2.790    0.666\n    matanalg          1.241    0.215    5.762    0.000    1.670    0.598\n    photser           1.727    0.266    6.500    0.000    2.324    0.777\n    handmov           0.986    0.248    3.979    0.000    1.326    0.391\n\nCovariances:\n                   Estimate  Std.Err  z-value  P(>|z|)   Std.lv  Std.all\n  Sequent ~~                                                            \n    Simult            0.587    0.231    2.546    0.011    0.510    0.510\n\nVariances:\n                   Estimate  Std.Err  z-value  P(>|z|)   Std.lv  Std.all\n   .handmov           7.851    0.845    9.291    0.000    7.851    0.683\n   .numbrec           1.899    0.487    3.896    0.000    1.899    0.331\n   .wordord           2.750    0.713    3.856    0.000    2.750    0.329\n   .gesclos           5.444    0.585    9.297    0.000    5.444    0.750\n   .triangle          3.521    0.457    7.702    0.000    3.521    0.485\n   .spatmem           9.767    1.179    8.287    0.000    9.767    0.556\n   .matanalg          5.013    0.569    8.815    0.000    5.013    0.643\n   .photser           3.554    0.529    6.718    0.000    3.554    0.397\n    Sequent           0.734    0.490    1.499    0.134    1.000    1.000\n    Simult            1.810    0.526    3.444    0.001    1.000    1.000\n\nR-Square:\n                   Estimate\n    handmov           0.317\n    numbrec           0.669\n    wordord           0.671\n    gesclos           0.250\n    triangle          0.515\n    spatmem           0.444\n    matanalg          0.357\n    photser           0.603\n\nModification Indices:\n\n        lhs op      rhs    mi    epc sepc.lv sepc.all sepc.nox\n21  Sequent =~  gesclos 2.695 -0.458  -0.393   -0.146   -0.146\n22  Sequent =~ triangle 0.483 -0.177  -0.151   -0.056   -0.056\n23  Sequent =~  spatmem 0.089  0.121   0.103    0.025    0.025\n24  Sequent =~ matanalg 2.519  0.441   0.377    0.135    0.135\n25  Sequent =~  photser 0.036  0.053   0.045    0.015    0.015\n26   Simult =~  numbrec 1.815 -0.384  -0.517   -0.216   -0.216\n27   Simult =~  wordord 1.815  0.465   0.625    0.216    0.216\n28  handmov ~~  numbrec 1.815  0.643   0.643    0.166    0.166\n29  handmov ~~  wordord 1.815 -0.778  -0.778   -0.167   -0.167\n30  handmov ~~  gesclos 0.477 -0.347  -0.347   -0.053   -0.053\n31  handmov ~~ triangle 2.060 -0.654  -0.654   -0.124   -0.124\n32  handmov ~~  spatmem 1.893  0.997   0.997    0.114    0.114\n33  handmov ~~ matanalg 2.368  0.767   0.767    0.122    0.122\n34  handmov ~~  photser 0.294 -0.271  -0.271   -0.051   -0.051\n36  numbrec ~~  gesclos 1.633 -0.379  -0.379   -0.118   -0.118\n37  numbrec ~~ triangle 0.009 -0.025  -0.025   -0.010   -0.010\n38  numbrec ~~  spatmem 0.376  0.257   0.257    0.060    0.060\n39  numbrec ~~ matanalg 1.538  0.362   0.362    0.117    0.117\n40  numbrec ~~  photser 2.495 -0.441  -0.441   -0.170   -0.170\n41  wordord ~~  gesclos 0.003  0.018   0.018    0.005    0.005\n42  wordord ~~ triangle 0.014 -0.037  -0.037   -0.012   -0.012\n43  wordord ~~  spatmem 0.505 -0.360  -0.360   -0.069   -0.069\n44  wordord ~~ matanalg 0.083 -0.102  -0.102   -0.027   -0.027\n45  wordord ~~  photser 3.460  0.627   0.627    0.201    0.201\n46  gesclos ~~ triangle 0.387  0.236   0.236    0.054    0.054\n47  gesclos ~~  spatmem 0.700 -0.505  -0.505   -0.069   -0.069\n48  gesclos ~~ matanalg 0.068  0.108   0.108    0.021    0.021\n49  gesclos ~~  photser 1.238  0.464   0.464    0.105    0.105\n50 triangle ~~  spatmem 0.088 -0.172  -0.172   -0.029   -0.029\n51 triangle ~~ matanalg 0.085 -0.113  -0.113   -0.027   -0.027\n52 triangle ~~  photser 1.677  0.569   0.569    0.161    0.161\n53  spatmem ~~ matanalg 0.119  0.210   0.210    0.030    0.030\n54  spatmem ~~  photser 0.119 -0.228  -0.228   -0.039   -0.039\n55 matanalg ~~  photser 3.225 -0.776  -0.776   -0.184   -0.184\n",
          "name": "stdout"
        }
      ]
    },
    {
      "metadata": {
        "trusted": true
      },
      "cell_type": "code",
      "source": "",
      "execution_count": null,
      "outputs": []
    }
  ],
  "metadata": {
    "kernelspec": {
      "name": "r",
      "display_name": "R",
      "language": "R"
    },
    "language_info": {
      "mimetype": "text/x-r-source",
      "name": "R",
      "pygments_lexer": "r",
      "version": "3.5.3",
      "file_extension": ".r",
      "codemirror_mode": "r"
    }
  },
  "nbformat": 4,
  "nbformat_minor": 2
}