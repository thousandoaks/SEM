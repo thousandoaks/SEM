{
 "cells": [
  {
   "cell_type": "code",
   "execution_count": 1,
   "metadata": {},
   "outputs": [
    {
     "name": "stderr",
     "output_type": "stream",
     "text": [
      "Installing package into ‘/home/nbuser/R’\n",
      "(as ‘lib’ is unspecified)\n"
     ]
    }
   ],
   "source": [
    "install.packages(\"lavaan\", dependencies = TRUE)"
   ]
  },
  {
   "cell_type": "code",
   "execution_count": 8,
   "metadata": {},
   "outputs": [
    {
     "name": "stderr",
     "output_type": "stream",
     "text": [
      "This is lavaan 0.6-1\n",
      "lavaan is BETA software! Please report any bugs.\n"
     ]
    }
   ],
   "source": [
    "library(lavaan)"
   ]
  },
  {
   "cell_type": "code",
   "execution_count": 2,
   "metadata": {},
   "outputs": [],
   "source": [
    "dat<-read.csv(\"https://github.com/thousandoaks/SEM/blob/master/SEM_06_SEM_versus_Multiple_Regression_data.csv?raw=true\")\n"
   ]
  },
  {
   "cell_type": "code",
   "execution_count": 4,
   "metadata": {},
   "outputs": [
    {
     "data": {
      "text/html": [
       "<table>\n",
       "<thead><tr><th scope=col>distance</th><th scope=col>elev</th><th scope=col>abiotic</th><th scope=col>age</th><th scope=col>hetero</th><th scope=col>firesev</th><th scope=col>cover</th><th scope=col>rich</th></tr></thead>\n",
       "<tbody>\n",
       "\t<tr><td>53.40900 </td><td>1225     </td><td>60.67103 </td><td>40       </td><td>0.757065 </td><td>3.50     </td><td>1.0387974</td><td>51       </td></tr>\n",
       "\t<tr><td>37.03745 </td><td>  60     </td><td>40.94291 </td><td>25       </td><td>0.491340 </td><td>4.05     </td><td>0.4775924</td><td>31       </td></tr>\n",
       "\t<tr><td>53.69565 </td><td> 200     </td><td>50.98805 </td><td>15       </td><td>0.844485 </td><td>2.60     </td><td>0.9489357</td><td>71       </td></tr>\n",
       "\t<tr><td>53.69565 </td><td> 200     </td><td>61.15633 </td><td>15       </td><td>0.690847 </td><td>2.90     </td><td>1.1949002</td><td>64       </td></tr>\n",
       "\t<tr><td>51.95985 </td><td> 970     </td><td>46.66807 </td><td>23       </td><td>0.545628 </td><td>4.30     </td><td>1.2981890</td><td>68       </td></tr>\n",
       "\t<tr><td>51.95985 </td><td> 970     </td><td>39.82357 </td><td>24       </td><td>0.652895 </td><td>4.00     </td><td>1.1734866</td><td>34       </td></tr>\n",
       "</tbody>\n",
       "</table>\n"
      ],
      "text/latex": [
       "\\begin{tabular}{r|llllllll}\n",
       " distance & elev & abiotic & age & hetero & firesev & cover & rich\\\\\n",
       "\\hline\n",
       "\t 53.40900  & 1225      & 60.67103  & 40        & 0.757065  & 3.50      & 1.0387974 & 51       \\\\\n",
       "\t 37.03745  &   60      & 40.94291  & 25        & 0.491340  & 4.05      & 0.4775924 & 31       \\\\\n",
       "\t 53.69565  &  200      & 50.98805  & 15        & 0.844485  & 2.60      & 0.9489357 & 71       \\\\\n",
       "\t 53.69565  &  200      & 61.15633  & 15        & 0.690847  & 2.90      & 1.1949002 & 64       \\\\\n",
       "\t 51.95985  &  970      & 46.66807  & 23        & 0.545628  & 4.30      & 1.2981890 & 68       \\\\\n",
       "\t 51.95985  &  970      & 39.82357  & 24        & 0.652895  & 4.00      & 1.1734866 & 34       \\\\\n",
       "\\end{tabular}\n"
      ],
      "text/markdown": [
       "\n",
       "distance | elev | abiotic | age | hetero | firesev | cover | rich | \n",
       "|---|---|---|---|---|---|\n",
       "| 53.40900  | 1225      | 60.67103  | 40        | 0.757065  | 3.50      | 1.0387974 | 51        | \n",
       "| 37.03745  |   60      | 40.94291  | 25        | 0.491340  | 4.05      | 0.4775924 | 31        | \n",
       "| 53.69565  |  200      | 50.98805  | 15        | 0.844485  | 2.60      | 0.9489357 | 71        | \n",
       "| 53.69565  |  200      | 61.15633  | 15        | 0.690847  | 2.90      | 1.1949002 | 64        | \n",
       "| 51.95985  |  970      | 46.66807  | 23        | 0.545628  | 4.30      | 1.2981890 | 68        | \n",
       "| 51.95985  |  970      | 39.82357  | 24        | 0.652895  | 4.00      | 1.1734866 | 34        | \n",
       "\n",
       "\n"
      ],
      "text/plain": [
       "  distance elev abiotic  age hetero   firesev cover     rich\n",
       "1 53.40900 1225 60.67103 40  0.757065 3.50    1.0387974 51  \n",
       "2 37.03745   60 40.94291 25  0.491340 4.05    0.4775924 31  \n",
       "3 53.69565  200 50.98805 15  0.844485 2.60    0.9489357 71  \n",
       "4 53.69565  200 61.15633 15  0.690847 2.90    1.1949002 64  \n",
       "5 51.95985  970 46.66807 23  0.545628 4.30    1.2981890 68  \n",
       "6 51.95985  970 39.82357 24  0.652895 4.00    1.1734866 34  "
      ]
     },
     "metadata": {},
     "output_type": "display_data"
    }
   ],
   "source": [
    "head(dat)"
   ]
  },
  {
   "cell_type": "code",
   "execution_count": null,
   "metadata": {},
   "outputs": [],
   "source": []
  },
  {
   "cell_type": "code",
   "execution_count": null,
   "metadata": {},
   "outputs": [],
   "source": []
  },
  {
   "cell_type": "code",
   "execution_count": null,
   "metadata": {},
   "outputs": [],
   "source": []
  },
  {
   "cell_type": "code",
   "execution_count": null,
   "metadata": {},
   "outputs": [],
   "source": []
  },
  {
   "cell_type": "code",
   "execution_count": null,
   "metadata": {},
   "outputs": [],
   "source": []
  },
  {
   "cell_type": "code",
   "execution_count": null,
   "metadata": {},
   "outputs": [],
   "source": []
  },
  {
   "cell_type": "markdown",
   "metadata": {},
   "source": [
    "### Let's start with model 1"
   ]
  },
  {
   "cell_type": "code",
   "execution_count": 13,
   "metadata": {},
   "outputs": [],
   "source": [
    "mod.1 <- 'rich ~ abiotic + hetero + distance + firesev + 0*age\n",
    "    abiotic ~ distance\n",
    "    hetero ~ distance\n",
    "    age ~ distance\n",
    "    firesev ~ age'"
   ]
  },
  {
   "cell_type": "code",
   "execution_count": 14,
   "metadata": {},
   "outputs": [
    {
     "name": "stderr",
     "output_type": "stream",
     "text": [
      "Warning message in lav_data_full(data = data, group = group, cluster = cluster, :\n",
      "“lavaan WARNING: some observed variances are (at least) a factor 1000 times larger than others; use varTable(fit) to investigate”"
     ]
    }
   ],
   "source": [
    "mod.1.fit <- sem(mod.1, data=dat)"
   ]
  },
  {
   "cell_type": "code",
   "execution_count": 32,
   "metadata": {},
   "outputs": [
    {
     "data": {
      "text/html": [
       "<table>\n",
       "<thead><tr><th scope=col>name</th><th scope=col>idx</th><th scope=col>nobs</th><th scope=col>type</th><th scope=col>exo</th><th scope=col>user</th><th scope=col>mean</th><th scope=col>var</th><th scope=col>nlev</th><th scope=col>lnam</th></tr></thead>\n",
       "<tbody>\n",
       "\t<tr><td>rich       </td><td>8          </td><td>90         </td><td>numeric    </td><td>0          </td><td>0          </td><td>49.2333333 </td><td>228.1808989</td><td>0          </td><td>           </td></tr>\n",
       "\t<tr><td>abiotic    </td><td>3          </td><td>90         </td><td>numeric    </td><td>0          </td><td>0          </td><td>49.2390250 </td><td> 58.9687166</td><td>0          </td><td>           </td></tr>\n",
       "\t<tr><td>hetero     </td><td>5          </td><td>90         </td><td>numeric    </td><td>0          </td><td>0          </td><td> 0.6833189 </td><td>  0.0131832</td><td>0          </td><td>           </td></tr>\n",
       "\t<tr><td>age        </td><td>4          </td><td>90         </td><td>numeric    </td><td>0          </td><td>0          </td><td>25.5666667 </td><td>157.9112360</td><td>0          </td><td>           </td></tr>\n",
       "\t<tr><td>firesev    </td><td>6          </td><td>90         </td><td>numeric    </td><td>0          </td><td>0          </td><td> 4.5650000 </td><td>  2.7302500</td><td>0          </td><td>           </td></tr>\n",
       "\t<tr><td>distance   </td><td>1          </td><td>90         </td><td>numeric    </td><td>1          </td><td>0          </td><td>49.2345833 </td><td> 77.9597236</td><td>0          </td><td>           </td></tr>\n",
       "</tbody>\n",
       "</table>\n"
      ],
      "text/latex": [
       "\\begin{tabular}{r|llllllllll}\n",
       " name & idx & nobs & type & exo & user & mean & var & nlev & lnam\\\\\n",
       "\\hline\n",
       "\t rich        & 8           & 90          & numeric     & 0           & 0           & 49.2333333  & 228.1808989 & 0           &            \\\\\n",
       "\t abiotic     & 3           & 90          & numeric     & 0           & 0           & 49.2390250  &  58.9687166 & 0           &            \\\\\n",
       "\t hetero      & 5           & 90          & numeric     & 0           & 0           &  0.6833189  &   0.0131832 & 0           &            \\\\\n",
       "\t age         & 4           & 90          & numeric     & 0           & 0           & 25.5666667  & 157.9112360 & 0           &            \\\\\n",
       "\t firesev     & 6           & 90          & numeric     & 0           & 0           &  4.5650000  &   2.7302500 & 0           &            \\\\\n",
       "\t distance    & 1           & 90          & numeric     & 1           & 0           & 49.2345833  &  77.9597236 & 0           &            \\\\\n",
       "\\end{tabular}\n"
      ],
      "text/markdown": [
       "\n",
       "name | idx | nobs | type | exo | user | mean | var | nlev | lnam | \n",
       "|---|---|---|---|---|---|\n",
       "| rich        | 8           | 90          | numeric     | 0           | 0           | 49.2333333  | 228.1808989 | 0           |             | \n",
       "| abiotic     | 3           | 90          | numeric     | 0           | 0           | 49.2390250  |  58.9687166 | 0           |             | \n",
       "| hetero      | 5           | 90          | numeric     | 0           | 0           |  0.6833189  |   0.0131832 | 0           |             | \n",
       "| age         | 4           | 90          | numeric     | 0           | 0           | 25.5666667  | 157.9112360 | 0           |             | \n",
       "| firesev     | 6           | 90          | numeric     | 0           | 0           |  4.5650000  |   2.7302500 | 0           |             | \n",
       "| distance    | 1           | 90          | numeric     | 1           | 0           | 49.2345833  |  77.9597236 | 0           |             | \n",
       "\n",
       "\n"
      ],
      "text/plain": [
       "  name     idx nobs type    exo user mean       var         nlev lnam\n",
       "1 rich     8   90   numeric 0   0    49.2333333 228.1808989 0        \n",
       "2 abiotic  3   90   numeric 0   0    49.2390250  58.9687166 0        \n",
       "3 hetero   5   90   numeric 0   0     0.6833189   0.0131832 0        \n",
       "4 age      4   90   numeric 0   0    25.5666667 157.9112360 0        \n",
       "5 firesev  6   90   numeric 0   0     4.5650000   2.7302500 0        \n",
       "6 distance 1   90   numeric 1   0    49.2345833  77.9597236 0        "
      ]
     },
     "metadata": {},
     "output_type": "display_data"
    }
   ],
   "source": [
    "varTable(mod.1.fit)"
   ]
  },
  {
   "cell_type": "code",
   "execution_count": 29,
   "metadata": {},
   "outputs": [],
   "source": [
    "## Recode vars to roughly same scale\n",
    "rich <- dat$rich/100\n",
    "abiotic <- dat$abiotic/100\n",
    "hetero <- dat$hetero\n",
    "age <- dat$age/100\n",
    "firesev <- dat$firesev/10\n",
    "distance <- dat$distance/100\n"
   ]
  },
  {
   "cell_type": "code",
   "execution_count": 34,
   "metadata": {},
   "outputs": [
    {
     "data": {
      "text/plain": [
       "      rich           abiotic           hetero            age        \n",
       " Min.   :0.1500   Min.   :0.3259   Min.   :0.3842   Min.   :0.0300  \n",
       " 1st Qu.:0.3700   1st Qu.:0.4381   1st Qu.:0.6246   1st Qu.:0.1500  \n",
       " Median :0.5000   Median :0.4804   Median :0.6843   Median :0.2500  \n",
       " Mean   :0.4923   Mean   :0.4924   Mean   :0.6833   Mean   :0.2557  \n",
       " 3rd Qu.:0.6200   3rd Qu.:0.5490   3rd Qu.:0.7684   3rd Qu.:0.3500  \n",
       " Max.   :0.8500   Max.   :0.7046   Max.   :0.8779   Max.   :0.6000  \n",
       "    firesev          distance     \n",
       " Min.   :0.1200   Min.   :0.3704  \n",
       " 1st Qu.:0.3700   1st Qu.:0.3946  \n",
       " Median :0.4300   Median :0.5177  \n",
       " Mean   :0.4565   Mean   :0.4923  \n",
       " 3rd Qu.:0.5550   3rd Qu.:0.5840  \n",
       " Max.   :0.9200   Max.   :0.6072  "
      ]
     },
     "metadata": {},
     "output_type": "display_data"
    }
   ],
   "source": [
    "### Create Transformed Dataset\n",
    "# overwrite file with recoded data\n",
    "t.dat <- data.frame(rich,abiotic ,hetero ,age, firesev,distance)\n",
    "summary(t.dat)"
   ]
  },
  {
   "cell_type": "code",
   "execution_count": 35,
   "metadata": {},
   "outputs": [],
   "source": [
    "# let's rebuild the model\n",
    "\n",
    "mod.1 <- 'rich ~ abiotic + hetero + distance + firesev + 0*age\n",
    "    abiotic ~ distance\n",
    "    hetero ~ distance\n",
    "    age ~ distance\n",
    "    firesev ~ age'"
   ]
  },
  {
   "cell_type": "code",
   "execution_count": 36,
   "metadata": {},
   "outputs": [],
   "source": [
    "mod.1.fit <- sem(mod.1, data=t.dat)"
   ]
  },
  {
   "cell_type": "code",
   "execution_count": 37,
   "metadata": {},
   "outputs": [
    {
     "name": "stdout",
     "output_type": "stream",
     "text": [
      "lavaan (0.6-1) converged normally after  41 iterations\n",
      "\n",
      "  Number of observations                            90\n",
      "\n",
      "  Estimator                                         ML\n",
      "  Model Fit Test Statistic                       6.900\n",
      "  Degrees of freedom                                 7\n",
      "  P-value (Chi-square)                           0.439\n",
      "\n",
      "Parameter Estimates:\n",
      "\n",
      "  Information                                 Expected\n",
      "  Information saturated (h1) model          Structured\n",
      "  Standard Errors                             Standard\n",
      "\n",
      "Regressions:\n",
      "                   Estimate  Std.Err  z-value  P(>|z|)\n",
      "  rich ~                                              \n",
      "    abiotic           0.475    0.163    2.909    0.004\n",
      "    hetero            0.352    0.103    3.410    0.001\n",
      "    distance          0.550    0.150    3.663    0.000\n",
      "    firesev          -0.195    0.068   -2.874    0.004\n",
      "    age               0.000                           \n",
      "  abiotic ~                                           \n",
      "    distance          0.400    0.081    4.911    0.000\n",
      "  hetero ~                                            \n",
      "    distance          0.450    0.129    3.498    0.000\n",
      "  age ~                                               \n",
      "    distance         -0.396    0.144   -2.747    0.006\n",
      "  firesev ~                                           \n",
      "    age               0.597    0.124    4.832    0.000\n",
      "\n",
      "Variances:\n",
      "                   Estimate  Std.Err  z-value  P(>|z|)\n",
      "   .rich              0.011    0.002    6.708    0.000\n",
      "   .abiotic           0.005    0.001    6.708    0.000\n",
      "   .hetero            0.011    0.002    6.708    0.000\n",
      "   .age               0.014    0.002    6.708    0.000\n",
      "   .firesev           0.021    0.003    6.708    0.000\n",
      "\n"
     ]
    }
   ],
   "source": [
    "summary(mod.1.fit)"
   ]
  },
  {
   "cell_type": "code",
   "execution_count": null,
   "metadata": {},
   "outputs": [],
   "source": [
    "## The p-value indicates a good fit"
   ]
  },
  {
   "cell_type": "code",
   "execution_count": null,
   "metadata": {},
   "outputs": [],
   "source": []
  },
  {
   "cell_type": "markdown",
   "metadata": {},
   "source": [
    "### Let's try model 2 (includes a direct effect)"
   ]
  },
  {
   "cell_type": "code",
   "execution_count": 38,
   "metadata": {},
   "outputs": [],
   "source": [
    "# specify “mod.2”\n",
    "mod.2 <- 'rich ~ abiotic + hetero + distance + firesev + age\n",
    "    abiotic ~ distance\n",
    "    hetero ~ distance\n",
    "    age ~ distance\n",
    "    firesev ~ age'"
   ]
  },
  {
   "cell_type": "code",
   "execution_count": 40,
   "metadata": {},
   "outputs": [],
   "source": [
    "mod.2.fit <- sem(mod.2, data=t.dat)"
   ]
  },
  {
   "cell_type": "code",
   "execution_count": 41,
   "metadata": {},
   "outputs": [
    {
     "name": "stdout",
     "output_type": "stream",
     "text": [
      "lavaan (0.6-1) converged normally after  42 iterations\n",
      "\n",
      "  Number of observations                            90\n",
      "\n",
      "  Estimator                                         ML\n",
      "  Model Fit Test Statistic                       6.095\n",
      "  Degrees of freedom                                 6\n",
      "  P-value (Chi-square)                           0.413\n",
      "\n",
      "Parameter Estimates:\n",
      "\n",
      "  Information                                 Expected\n",
      "  Information saturated (h1) model          Structured\n",
      "  Standard Errors                             Standard\n",
      "\n",
      "Regressions:\n",
      "                   Estimate  Std.Err  z-value  P(>|z|)\n",
      "  rich ~                                              \n",
      "    abiotic           0.481    0.162    2.959    0.003\n",
      "    hetero            0.350    0.103    3.401    0.001\n",
      "    distance          0.528    0.153    3.449    0.001\n",
      "    firesev          -0.167    0.075   -2.215    0.027\n",
      "    age              -0.091    0.102   -0.886    0.376\n",
      "  abiotic ~                                           \n",
      "    distance          0.400    0.081    4.911    0.000\n",
      "  hetero ~                                            \n",
      "    distance          0.450    0.129    3.498    0.000\n",
      "  age ~                                               \n",
      "    distance         -0.396    0.144   -2.747    0.006\n",
      "  firesev ~                                           \n",
      "    age               0.597    0.124    4.832    0.000\n",
      "\n",
      "Variances:\n",
      "                   Estimate  Std.Err  z-value  P(>|z|)\n",
      "   .rich              0.011    0.002    6.708    0.000\n",
      "   .abiotic           0.005    0.001    6.708    0.000\n",
      "   .hetero            0.011    0.002    6.708    0.000\n",
      "   .age               0.014    0.002    6.708    0.000\n",
      "   .firesev           0.021    0.003    6.708    0.000\n",
      "\n"
     ]
    }
   ],
   "source": [
    "summary(mod.2.fit)"
   ]
  },
  {
   "cell_type": "markdown",
   "metadata": {},
   "source": [
    "#### Overall the model seems to fit well (p-value=0.413>0)\n",
    "#### We see that the direct effect of age on richness is neither relevant (estimate=-0.091) nor statistically significant (0.376)"
   ]
  },
  {
   "cell_type": "code",
   "execution_count": 43,
   "metadata": {},
   "outputs": [
    {
     "data": {
      "text/html": [
       "<table>\n",
       "<thead><tr><th></th><th scope=col>Df</th><th scope=col>AIC</th><th scope=col>BIC</th><th scope=col>Chisq</th><th scope=col>Chisq diff</th><th scope=col>Df diff</th><th scope=col>Pr(&gt;Chisq)</th></tr></thead>\n",
       "<tbody>\n",
       "\t<tr><th scope=row>mod.2.fit</th><td>6        </td><td>-715.3471</td><td>-680.3498</td><td>6.094552 </td><td>       NA</td><td>NA       </td><td>       NA</td></tr>\n",
       "\t<tr><th scope=row>mod.1.fit</th><td>7        </td><td>-716.5419</td><td>-684.0444</td><td>6.899752 </td><td>0.8052001</td><td> 1       </td><td>0.3695432</td></tr>\n",
       "</tbody>\n",
       "</table>\n"
      ],
      "text/latex": [
       "\\begin{tabular}{r|lllllll}\n",
       "  & Df & AIC & BIC & Chisq & Chisq diff & Df diff & Pr(>Chisq)\\\\\n",
       "\\hline\n",
       "\tmod.2.fit & 6         & -715.3471 & -680.3498 & 6.094552  &        NA & NA        &        NA\\\\\n",
       "\tmod.1.fit & 7         & -716.5419 & -684.0444 & 6.899752  & 0.8052001 &  1        & 0.3695432\\\\\n",
       "\\end{tabular}\n"
      ],
      "text/markdown": [
       "\n",
       "| <!--/--> | Df | AIC | BIC | Chisq | Chisq diff | Df diff | Pr(>Chisq) | \n",
       "|---|---|\n",
       "| mod.2.fit | 6         | -715.3471 | -680.3498 | 6.094552  |        NA | NA        |        NA | \n",
       "| mod.1.fit | 7         | -716.5419 | -684.0444 | 6.899752  | 0.8052001 |  1        | 0.3695432 | \n",
       "\n",
       "\n"
      ],
      "text/plain": [
       "          Df AIC       BIC       Chisq    Chisq diff Df diff Pr(>Chisq)\n",
       "mod.2.fit 6  -715.3471 -680.3498 6.094552        NA  NA             NA \n",
       "mod.1.fit 7  -716.5419 -684.0444 6.899752 0.8052001   1      0.3695432 "
      ]
     },
     "metadata": {},
     "output_type": "display_data"
    }
   ],
   "source": [
    "anova(mod.1.fit, mod.2.fit)"
   ]
  },
  {
   "cell_type": "markdown",
   "metadata": {},
   "source": [
    "### The previous result shows that the model with direct path from age to rich (mod.2.fit) is not significantly better than the first one (no direct mediation)"
   ]
  },
  {
   "cell_type": "markdown",
   "metadata": {},
   "source": [
    "### We select the first model as the one close enough to the data"
   ]
  },
  {
   "cell_type": "code",
   "execution_count": 49,
   "metadata": {},
   "outputs": [
    {
     "data": {
      "text/html": [
       "<table>\n",
       "<thead><tr><th scope=col>lhs</th><th scope=col>op</th><th scope=col>rhs</th><th scope=col>est.std</th><th scope=col>se</th><th scope=col>z</th><th scope=col>pvalue</th><th scope=col>ci.lower</th><th scope=col>ci.upper</th></tr></thead>\n",
       "<tbody>\n",
       "\t<tr><td>rich        </td><td>~           </td><td>abiotic     </td><td> 0.25030004 </td><td>0.08356737  </td><td> 2.9951886  </td><td>2.742752e-03</td><td> 0.0865110  </td><td> 0.41408908 </td></tr>\n",
       "\t<tr><td>rich        </td><td>~           </td><td>hetero      </td><td> 0.27236810 </td><td>0.07880941  </td><td> 3.4560352  </td><td>5.481837e-04</td><td> 0.1179045  </td><td> 0.42683171 </td></tr>\n",
       "\t<tr><td>rich        </td><td>~           </td><td>distance    </td><td> 0.31606436 </td><td>0.08802804  </td><td> 3.5904965  </td><td>3.300487e-04</td><td> 0.1435326  </td><td> 0.48859615 </td></tr>\n",
       "\t<tr><td>rich        </td><td>~           </td><td>firesev     </td><td>-0.18678847 </td><td>0.08394089  </td><td>-2.2252381  </td><td>2.606526e-02</td><td>-0.3513096  </td><td>-0.02226735 </td></tr>\n",
       "\t<tr><td>rich        </td><td>~           </td><td>age         </td><td>-0.07713315 </td><td>0.08701852  </td><td>-0.8863993  </td><td>3.754024e-01</td><td>-0.2476863  </td><td> 0.09342002 </td></tr>\n",
       "\t<tr><td>abiotic     </td><td>~           </td><td>distance    </td><td> 0.45972328 </td><td>0.07861649  </td><td> 5.8476697  </td><td>4.985072e-09</td><td> 0.3056378  </td><td> 0.61380877 </td></tr>\n",
       "\t<tr><td>hetero      </td><td>~           </td><td>distance    </td><td> 0.34598753 </td><td>0.08997120  </td><td> 3.8455365  </td><td>1.202890e-04</td><td> 0.1696472  </td><td> 0.52232784 </td></tr>\n",
       "\t<tr><td>age         </td><td>~           </td><td>distance    </td><td>-0.27814383 </td><td>0.09535483  </td><td>-2.9169350  </td><td>3.534894e-03</td><td>-0.4650358  </td><td>-0.09125180 </td></tr>\n",
       "\t<tr><td>firesev     </td><td>~           </td><td>age         </td><td> 0.45386542 </td><td>0.08366979  </td><td> 5.4244837  </td><td>5.812228e-08</td><td> 0.2898756  </td><td> 0.61785520 </td></tr>\n",
       "\t<tr><td>rich        </td><td>~~          </td><td>rich        </td><td> 0.50803719 </td><td>0.06964202  </td><td> 7.2949807  </td><td>2.986500e-13</td><td> 0.3715413  </td><td> 0.64453304 </td></tr>\n",
       "\t<tr><td>abiotic     </td><td>~~          </td><td>abiotic     </td><td> 0.78865451 </td><td>0.07228366  </td><td>10.9105504  </td><td>0.000000e+00</td><td> 0.6469811  </td><td> 0.93032787 </td></tr>\n",
       "\t<tr><td>hetero      </td><td>~~          </td><td>hetero      </td><td> 0.88029263 </td><td>0.06225783  </td><td>14.1394695  </td><td>0.000000e+00</td><td> 0.7582695  </td><td> 1.00231573 </td></tr>\n",
       "\t<tr><td>age         </td><td>~~          </td><td>age         </td><td> 0.92263601 </td><td>0.05304471  </td><td>17.3935536  </td><td>0.000000e+00</td><td> 0.8186703  </td><td> 1.02660173 </td></tr>\n",
       "\t<tr><td>firesev     </td><td>~~          </td><td>firesev     </td><td> 0.79400618 </td><td>0.07594965  </td><td>10.4543756  </td><td>0.000000e+00</td><td> 0.6451476  </td><td> 0.94286476 </td></tr>\n",
       "\t<tr><td>distance    </td><td>~~          </td><td>distance    </td><td> 1.00000000 </td><td>0.00000000  </td><td>        NA  </td><td>          NA</td><td> 1.0000000  </td><td> 1.00000000 </td></tr>\n",
       "</tbody>\n",
       "</table>\n"
      ],
      "text/latex": [
       "\\begin{tabular}{r|lllllllll}\n",
       " lhs & op & rhs & est.std & se & z & pvalue & ci.lower & ci.upper\\\\\n",
       "\\hline\n",
       "\t rich                & \\textasciitilde{}  & abiotic             &  0.25030004         & 0.08356737          &  2.9951886          & 2.742752e-03        &  0.0865110          &  0.41408908        \\\\\n",
       "\t rich                & \\textasciitilde{}  & hetero              &  0.27236810         & 0.07880941          &  3.4560352          & 5.481837e-04        &  0.1179045          &  0.42683171        \\\\\n",
       "\t rich                & \\textasciitilde{}  & distance            &  0.31606436         & 0.08802804          &  3.5904965          & 3.300487e-04        &  0.1435326          &  0.48859615        \\\\\n",
       "\t rich                & \\textasciitilde{}  & firesev             & -0.18678847         & 0.08394089          & -2.2252381          & 2.606526e-02        & -0.3513096          & -0.02226735        \\\\\n",
       "\t rich                & \\textasciitilde{}  & age                 & -0.07713315         & 0.08701852          & -0.8863993          & 3.754024e-01        & -0.2476863          &  0.09342002        \\\\\n",
       "\t abiotic             & \\textasciitilde{}  & distance            &  0.45972328         & 0.07861649          &  5.8476697          & 4.985072e-09        &  0.3056378          &  0.61380877        \\\\\n",
       "\t hetero              & \\textasciitilde{}  & distance            &  0.34598753         & 0.08997120          &  3.8455365          & 1.202890e-04        &  0.1696472          &  0.52232784        \\\\\n",
       "\t age                 & \\textasciitilde{}  & distance            & -0.27814383         & 0.09535483          & -2.9169350          & 3.534894e-03        & -0.4650358          & -0.09125180        \\\\\n",
       "\t firesev             & \\textasciitilde{}  & age                 &  0.45386542         & 0.08366979          &  5.4244837          & 5.812228e-08        &  0.2898756          &  0.61785520        \\\\\n",
       "\t rich                                 & \\textasciitilde{}\\textasciitilde{} & rich                                 &  0.50803719                          & 0.06964202                           &  7.2949807                           & 2.986500e-13                         &  0.3715413                           &  0.64453304                         \\\\\n",
       "\t abiotic                              & \\textasciitilde{}\\textasciitilde{} & abiotic                              &  0.78865451                          & 0.07228366                           & 10.9105504                           & 0.000000e+00                         &  0.6469811                           &  0.93032787                         \\\\\n",
       "\t hetero                               & \\textasciitilde{}\\textasciitilde{} & hetero                               &  0.88029263                          & 0.06225783                           & 14.1394695                           & 0.000000e+00                         &  0.7582695                           &  1.00231573                         \\\\\n",
       "\t age                                  & \\textasciitilde{}\\textasciitilde{} & age                                  &  0.92263601                          & 0.05304471                           & 17.3935536                           & 0.000000e+00                         &  0.8186703                           &  1.02660173                         \\\\\n",
       "\t firesev                              & \\textasciitilde{}\\textasciitilde{} & firesev                              &  0.79400618                          & 0.07594965                           & 10.4543756                           & 0.000000e+00                         &  0.6451476                           &  0.94286476                         \\\\\n",
       "\t distance                             & \\textasciitilde{}\\textasciitilde{} & distance                             &  1.00000000                          & 0.00000000                           &         NA                           &           NA                         &  1.0000000                           &  1.00000000                         \\\\\n",
       "\\end{tabular}\n"
      ],
      "text/markdown": [
       "\n",
       "lhs | op | rhs | est.std | se | z | pvalue | ci.lower | ci.upper | \n",
       "|---|---|---|---|---|---|---|---|---|---|---|---|---|---|---|\n",
       "| rich         | ~            | abiotic      |  0.25030004  | 0.08356737   |  2.9951886   | 2.742752e-03 |  0.0865110   |  0.41408908  | \n",
       "| rich         | ~            | hetero       |  0.27236810  | 0.07880941   |  3.4560352   | 5.481837e-04 |  0.1179045   |  0.42683171  | \n",
       "| rich         | ~            | distance     |  0.31606436  | 0.08802804   |  3.5904965   | 3.300487e-04 |  0.1435326   |  0.48859615  | \n",
       "| rich         | ~            | firesev      | -0.18678847  | 0.08394089   | -2.2252381   | 2.606526e-02 | -0.3513096   | -0.02226735  | \n",
       "| rich         | ~            | age          | -0.07713315  | 0.08701852   | -0.8863993   | 3.754024e-01 | -0.2476863   |  0.09342002  | \n",
       "| abiotic      | ~            | distance     |  0.45972328  | 0.07861649   |  5.8476697   | 4.985072e-09 |  0.3056378   |  0.61380877  | \n",
       "| hetero       | ~            | distance     |  0.34598753  | 0.08997120   |  3.8455365   | 1.202890e-04 |  0.1696472   |  0.52232784  | \n",
       "| age          | ~            | distance     | -0.27814383  | 0.09535483   | -2.9169350   | 3.534894e-03 | -0.4650358   | -0.09125180  | \n",
       "| firesev      | ~            | age          |  0.45386542  | 0.08366979   |  5.4244837   | 5.812228e-08 |  0.2898756   |  0.61785520  | \n",
       "| rich         | ~~           | rich         |  0.50803719  | 0.06964202   |  7.2949807   | 2.986500e-13 |  0.3715413   |  0.64453304  | \n",
       "| abiotic      | ~~           | abiotic      |  0.78865451  | 0.07228366   | 10.9105504   | 0.000000e+00 |  0.6469811   |  0.93032787  | \n",
       "| hetero       | ~~           | hetero       |  0.88029263  | 0.06225783   | 14.1394695   | 0.000000e+00 |  0.7582695   |  1.00231573  | \n",
       "| age          | ~~           | age          |  0.92263601  | 0.05304471   | 17.3935536   | 0.000000e+00 |  0.8186703   |  1.02660173  | \n",
       "| firesev      | ~~           | firesev      |  0.79400618  | 0.07594965   | 10.4543756   | 0.000000e+00 |  0.6451476   |  0.94286476  | \n",
       "| distance     | ~~           | distance     |  1.00000000  | 0.00000000   |         NA   |           NA |  1.0000000   |  1.00000000  | \n",
       "\n",
       "\n"
      ],
      "text/plain": [
       "   lhs      op rhs      est.std     se         z          pvalue      \n",
       "1  rich     ~  abiotic   0.25030004 0.08356737  2.9951886 2.742752e-03\n",
       "2  rich     ~  hetero    0.27236810 0.07880941  3.4560352 5.481837e-04\n",
       "3  rich     ~  distance  0.31606436 0.08802804  3.5904965 3.300487e-04\n",
       "4  rich     ~  firesev  -0.18678847 0.08394089 -2.2252381 2.606526e-02\n",
       "5  rich     ~  age      -0.07713315 0.08701852 -0.8863993 3.754024e-01\n",
       "6  abiotic  ~  distance  0.45972328 0.07861649  5.8476697 4.985072e-09\n",
       "7  hetero   ~  distance  0.34598753 0.08997120  3.8455365 1.202890e-04\n",
       "8  age      ~  distance -0.27814383 0.09535483 -2.9169350 3.534894e-03\n",
       "9  firesev  ~  age       0.45386542 0.08366979  5.4244837 5.812228e-08\n",
       "10 rich     ~~ rich      0.50803719 0.06964202  7.2949807 2.986500e-13\n",
       "11 abiotic  ~~ abiotic   0.78865451 0.07228366 10.9105504 0.000000e+00\n",
       "12 hetero   ~~ hetero    0.88029263 0.06225783 14.1394695 0.000000e+00\n",
       "13 age      ~~ age       0.92263601 0.05304471 17.3935536 0.000000e+00\n",
       "14 firesev  ~~ firesev   0.79400618 0.07594965 10.4543756 0.000000e+00\n",
       "15 distance ~~ distance  1.00000000 0.00000000         NA           NA\n",
       "   ci.lower   ci.upper   \n",
       "1   0.0865110  0.41408908\n",
       "2   0.1179045  0.42683171\n",
       "3   0.1435326  0.48859615\n",
       "4  -0.3513096 -0.02226735\n",
       "5  -0.2476863  0.09342002\n",
       "6   0.3056378  0.61380877\n",
       "7   0.1696472  0.52232784\n",
       "8  -0.4650358 -0.09125180\n",
       "9   0.2898756  0.61785520\n",
       "10  0.3715413  0.64453304\n",
       "11  0.6469811  0.93032787\n",
       "12  0.7582695  1.00231573\n",
       "13  0.8186703  1.02660173\n",
       "14  0.6451476  0.94286476\n",
       "15  1.0000000  1.00000000"
      ]
     },
     "metadata": {},
     "output_type": "display_data"
    }
   ],
   "source": [
    "standardizedSolution(mod.2.fit, type = \"std.all\")"
   ]
  },
  {
   "cell_type": "code",
   "execution_count": null,
   "metadata": {},
   "outputs": [],
   "source": []
  },
  {
   "cell_type": "code",
   "execution_count": null,
   "metadata": {},
   "outputs": [],
   "source": []
  },
  {
   "cell_type": "code",
   "execution_count": null,
   "metadata": {},
   "outputs": [],
   "source": []
  }
 ],
 "metadata": {
  "kernelspec": {
   "display_name": "R",
   "language": "R",
   "name": "r"
  },
  "language_info": {
   "codemirror_mode": "r",
   "file_extension": ".r",
   "mimetype": "text/x-r-source",
   "name": "R",
   "pygments_lexer": "r",
   "version": "3.4.1"
  }
 },
 "nbformat": 4,
 "nbformat_minor": 2
}
