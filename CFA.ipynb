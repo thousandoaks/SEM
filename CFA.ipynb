{
 "cells": [
  {
   "cell_type": "code",
   "execution_count": 1,
   "metadata": {},
   "outputs": [
    {
     "name": "stderr",
     "output_type": "stream",
     "text": [
      "Installing package into ‘/home/nbuser/R’\n",
      "(as ‘lib’ is unspecified)\n"
     ]
    }
   ],
   "source": [
    "install.packages(\"lavaan\", dependencies = TRUE)"
   ]
  },
  {
   "cell_type": "code",
   "execution_count": 2,
   "metadata": {},
   "outputs": [
    {
     "name": "stderr",
     "output_type": "stream",
     "text": [
      "This is lavaan 0.6-1\n",
      "lavaan is BETA software! Please report any bugs.\n"
     ]
    }
   ],
   "source": [
    "library(lavaan)"
   ]
  },
  {
   "cell_type": "code",
   "execution_count": 7,
   "metadata": {},
   "outputs": [],
   "source": [
    "?HolzingerSwineford1939"
   ]
  },
  {
   "cell_type": "markdown",
   "metadata": {},
   "source": [
    "### Please refer to: http://lavaan.ugent.be/tutorial/cfa.html"
   ]
  },
  {
   "cell_type": "code",
   "execution_count": 3,
   "metadata": {},
   "outputs": [],
   "source": [
    "# specify the model\n",
    "HS.model <- ' visual  =~ x1 + x2 + x3      \n",
    "              textual =~ x4 + x5 + x6\n",
    "              speed   =~ x7 + x8 + x9 '"
   ]
  },
  {
   "cell_type": "code",
   "execution_count": 4,
   "metadata": {},
   "outputs": [
    {
     "name": "stdout",
     "output_type": "stream",
     "text": [
      "lavaan (0.6-1) converged normally after  35 iterations\n",
      "\n",
      "  Number of observations                           301\n",
      "\n",
      "  Estimator                                         ML\n",
      "  Model Fit Test Statistic                      85.306\n",
      "  Degrees of freedom                                24\n",
      "  P-value (Chi-square)                           0.000\n",
      "\n",
      "Model test baseline model:\n",
      "\n",
      "  Minimum Function Test Statistic              918.852\n",
      "  Degrees of freedom                                36\n",
      "  P-value                                        0.000\n",
      "\n",
      "User model versus baseline model:\n",
      "\n",
      "  Comparative Fit Index (CFI)                    0.931\n",
      "  Tucker-Lewis Index (TLI)                       0.896\n",
      "\n",
      "Loglikelihood and Information Criteria:\n",
      "\n",
      "  Loglikelihood user model (H0)              -3737.745\n",
      "  Loglikelihood unrestricted model (H1)      -3695.092\n",
      "\n",
      "  Number of free parameters                         21\n",
      "  Akaike (AIC)                                7517.490\n",
      "  Bayesian (BIC)                              7595.339\n",
      "  Sample-size adjusted Bayesian (BIC)         7528.739\n",
      "\n",
      "Root Mean Square Error of Approximation:\n",
      "\n",
      "  RMSEA                                          0.092\n",
      "  90 Percent Confidence Interval          0.071  0.114\n",
      "  P-value RMSEA <= 0.05                          0.001\n",
      "\n",
      "Standardized Root Mean Square Residual:\n",
      "\n",
      "  SRMR                                           0.065\n",
      "\n",
      "Parameter Estimates:\n",
      "\n",
      "  Information                                 Expected\n",
      "  Information saturated (h1) model          Structured\n",
      "  Standard Errors                             Standard\n",
      "\n",
      "Latent Variables:\n",
      "                   Estimate  Std.Err  z-value  P(>|z|)\n",
      "  visual =~                                           \n",
      "    x1                1.000                           \n",
      "    x2                0.554    0.100    5.554    0.000\n",
      "    x3                0.729    0.109    6.685    0.000\n",
      "  textual =~                                          \n",
      "    x4                1.000                           \n",
      "    x5                1.113    0.065   17.014    0.000\n",
      "    x6                0.926    0.055   16.703    0.000\n",
      "  speed =~                                            \n",
      "    x7                1.000                           \n",
      "    x8                1.180    0.165    7.152    0.000\n",
      "    x9                1.082    0.151    7.155    0.000\n",
      "\n",
      "Covariances:\n",
      "                   Estimate  Std.Err  z-value  P(>|z|)\n",
      "  visual ~~                                           \n",
      "    textual           0.408    0.074    5.552    0.000\n",
      "    speed             0.262    0.056    4.660    0.000\n",
      "  textual ~~                                          \n",
      "    speed             0.173    0.049    3.518    0.000\n",
      "\n",
      "Variances:\n",
      "                   Estimate  Std.Err  z-value  P(>|z|)\n",
      "   .x1                0.549    0.114    4.833    0.000\n",
      "   .x2                1.134    0.102   11.146    0.000\n",
      "   .x3                0.844    0.091    9.317    0.000\n",
      "   .x4                0.371    0.048    7.779    0.000\n",
      "   .x5                0.446    0.058    7.642    0.000\n",
      "   .x6                0.356    0.043    8.277    0.000\n",
      "   .x7                0.799    0.081    9.823    0.000\n",
      "   .x8                0.488    0.074    6.573    0.000\n",
      "   .x9                0.566    0.071    8.003    0.000\n",
      "    visual            0.809    0.145    5.564    0.000\n",
      "    textual           0.979    0.112    8.737    0.000\n",
      "    speed             0.384    0.086    4.451    0.000\n",
      "\n"
     ]
    }
   ],
   "source": [
    "# fit the model\n",
    "fit <- cfa(HS.model, data=HolzingerSwineford1939)\n",
    "\n",
    "# display summary output\n",
    "summary(fit, fit.measures=TRUE)"
   ]
  },
  {
   "cell_type": "code",
   "execution_count": 6,
   "metadata": {},
   "outputs": [
    {
     "data": {
      "text/html": [
       "<dl>\n",
       "\t<dt>$lambda</dt>\n",
       "\t\t<dd><table>\n",
       "<thead><tr><th></th><th scope=col>visual</th><th scope=col>textual</th><th scope=col>speed</th></tr></thead>\n",
       "<tbody>\n",
       "\t<tr><th scope=row>x1</th><td>0.7718804</td><td>0.0000000</td><td>0.0000000</td></tr>\n",
       "\t<tr><th scope=row>x2</th><td>0.4236010</td><td>0.0000000</td><td>0.0000000</td></tr>\n",
       "\t<tr><th scope=row>x3</th><td>0.5811323</td><td>0.0000000</td><td>0.0000000</td></tr>\n",
       "\t<tr><th scope=row>x4</th><td>0.0000000</td><td>0.8515822</td><td>0.0000000</td></tr>\n",
       "\t<tr><th scope=row>x5</th><td>0.0000000</td><td>0.8550654</td><td>0.0000000</td></tr>\n",
       "\t<tr><th scope=row>x6</th><td>0.0000000</td><td>0.8380101</td><td>0.0000000</td></tr>\n",
       "\t<tr><th scope=row>x7</th><td>0.0000000</td><td>0.0000000</td><td>0.5695147</td></tr>\n",
       "\t<tr><th scope=row>x8</th><td>0.0000000</td><td>0.0000000</td><td>0.7230444</td></tr>\n",
       "\t<tr><th scope=row>x9</th><td>0.0000000</td><td>0.0000000</td><td>0.6650092</td></tr>\n",
       "</tbody>\n",
       "</table>\n",
       "</dd>\n",
       "\t<dt>$theta</dt>\n",
       "\t\t<dd><table>\n",
       "<thead><tr><th></th><th scope=col>x1</th><th scope=col>x2</th><th scope=col>x3</th><th scope=col>x4</th><th scope=col>x5</th><th scope=col>x6</th><th scope=col>x7</th><th scope=col>x8</th><th scope=col>x9</th></tr></thead>\n",
       "<tbody>\n",
       "\t<tr><th scope=row>x1</th><td>0.4042006</td><td>0.0000000</td><td>0.0000000</td><td>0.0000000</td><td>0.0000000</td><td>0.0000000</td><td>0.000000 </td><td>0.0000000</td><td>0.0000000</td></tr>\n",
       "\t<tr><th scope=row>x2</th><td>0.0000000</td><td>0.8205622</td><td>0.0000000</td><td>0.0000000</td><td>0.0000000</td><td>0.0000000</td><td>0.000000 </td><td>0.0000000</td><td>0.0000000</td></tr>\n",
       "\t<tr><th scope=row>x3</th><td>0.0000000</td><td>0.0000000</td><td>0.6622852</td><td>0.0000000</td><td>0.0000000</td><td>0.0000000</td><td>0.000000 </td><td>0.0000000</td><td>0.0000000</td></tr>\n",
       "\t<tr><th scope=row>x4</th><td>0.0000000</td><td>0.0000000</td><td>0.0000000</td><td>0.2748077</td><td>0.0000000</td><td>0.0000000</td><td>0.000000 </td><td>0.0000000</td><td>0.0000000</td></tr>\n",
       "\t<tr><th scope=row>x5</th><td>0.0000000</td><td>0.0000000</td><td>0.0000000</td><td>0.0000000</td><td>0.2688631</td><td>0.0000000</td><td>0.000000 </td><td>0.0000000</td><td>0.0000000</td></tr>\n",
       "\t<tr><th scope=row>x6</th><td>0.0000000</td><td>0.0000000</td><td>0.0000000</td><td>0.0000000</td><td>0.0000000</td><td>0.2977391</td><td>0.000000 </td><td>0.0000000</td><td>0.0000000</td></tr>\n",
       "\t<tr><th scope=row>x7</th><td>0.0000000</td><td>0.0000000</td><td>0.0000000</td><td>0.0000000</td><td>0.0000000</td><td>0.0000000</td><td>0.675653 </td><td>0.0000000</td><td>0.0000000</td></tr>\n",
       "\t<tr><th scope=row>x8</th><td>0.0000000</td><td>0.0000000</td><td>0.0000000</td><td>0.0000000</td><td>0.0000000</td><td>0.0000000</td><td>0.000000 </td><td>0.4772067</td><td>0.0000000</td></tr>\n",
       "\t<tr><th scope=row>x9</th><td>0.0000000</td><td>0.0000000</td><td>0.0000000</td><td>0.0000000</td><td>0.0000000</td><td>0.0000000</td><td>0.000000 </td><td>0.0000000</td><td>0.5577627</td></tr>\n",
       "</tbody>\n",
       "</table>\n",
       "</dd>\n",
       "\t<dt>$psi</dt>\n",
       "\t\t<dd><table>\n",
       "<thead><tr><th></th><th scope=col>visual</th><th scope=col>textual</th><th scope=col>speed</th></tr></thead>\n",
       "<tbody>\n",
       "\t<tr><th scope=row>visual</th><td>1.0000000</td><td>0.4585093</td><td>0.4705345</td></tr>\n",
       "\t<tr><th scope=row>textual</th><td>0.4585093</td><td>1.0000000</td><td>0.2829847</td></tr>\n",
       "\t<tr><th scope=row>speed</th><td>0.4705345</td><td>0.2829847</td><td>1.0000000</td></tr>\n",
       "</tbody>\n",
       "</table>\n",
       "</dd>\n",
       "</dl>\n"
      ],
      "text/latex": [
       "\\begin{description}\n",
       "\\item[\\$lambda] \\begin{tabular}{r|lll}\n",
       "  & visual & textual & speed\\\\\n",
       "\\hline\n",
       "\tx1 & 0.7718804 & 0.0000000 & 0.0000000\\\\\n",
       "\tx2 & 0.4236010 & 0.0000000 & 0.0000000\\\\\n",
       "\tx3 & 0.5811323 & 0.0000000 & 0.0000000\\\\\n",
       "\tx4 & 0.0000000 & 0.8515822 & 0.0000000\\\\\n",
       "\tx5 & 0.0000000 & 0.8550654 & 0.0000000\\\\\n",
       "\tx6 & 0.0000000 & 0.8380101 & 0.0000000\\\\\n",
       "\tx7 & 0.0000000 & 0.0000000 & 0.5695147\\\\\n",
       "\tx8 & 0.0000000 & 0.0000000 & 0.7230444\\\\\n",
       "\tx9 & 0.0000000 & 0.0000000 & 0.6650092\\\\\n",
       "\\end{tabular}\n",
       "\n",
       "\\item[\\$theta] \\begin{tabular}{r|lllllllll}\n",
       "  & x1 & x2 & x3 & x4 & x5 & x6 & x7 & x8 & x9\\\\\n",
       "\\hline\n",
       "\tx1 & 0.4042006 & 0.0000000 & 0.0000000 & 0.0000000 & 0.0000000 & 0.0000000 & 0.000000  & 0.0000000 & 0.0000000\\\\\n",
       "\tx2 & 0.0000000 & 0.8205622 & 0.0000000 & 0.0000000 & 0.0000000 & 0.0000000 & 0.000000  & 0.0000000 & 0.0000000\\\\\n",
       "\tx3 & 0.0000000 & 0.0000000 & 0.6622852 & 0.0000000 & 0.0000000 & 0.0000000 & 0.000000  & 0.0000000 & 0.0000000\\\\\n",
       "\tx4 & 0.0000000 & 0.0000000 & 0.0000000 & 0.2748077 & 0.0000000 & 0.0000000 & 0.000000  & 0.0000000 & 0.0000000\\\\\n",
       "\tx5 & 0.0000000 & 0.0000000 & 0.0000000 & 0.0000000 & 0.2688631 & 0.0000000 & 0.000000  & 0.0000000 & 0.0000000\\\\\n",
       "\tx6 & 0.0000000 & 0.0000000 & 0.0000000 & 0.0000000 & 0.0000000 & 0.2977391 & 0.000000  & 0.0000000 & 0.0000000\\\\\n",
       "\tx7 & 0.0000000 & 0.0000000 & 0.0000000 & 0.0000000 & 0.0000000 & 0.0000000 & 0.675653  & 0.0000000 & 0.0000000\\\\\n",
       "\tx8 & 0.0000000 & 0.0000000 & 0.0000000 & 0.0000000 & 0.0000000 & 0.0000000 & 0.000000  & 0.4772067 & 0.0000000\\\\\n",
       "\tx9 & 0.0000000 & 0.0000000 & 0.0000000 & 0.0000000 & 0.0000000 & 0.0000000 & 0.000000  & 0.0000000 & 0.5577627\\\\\n",
       "\\end{tabular}\n",
       "\n",
       "\\item[\\$psi] \\begin{tabular}{r|lll}\n",
       "  & visual & textual & speed\\\\\n",
       "\\hline\n",
       "\tvisual & 1.0000000 & 0.4585093 & 0.4705345\\\\\n",
       "\ttextual & 0.4585093 & 1.0000000 & 0.2829847\\\\\n",
       "\tspeed & 0.4705345 & 0.2829847 & 1.0000000\\\\\n",
       "\\end{tabular}\n",
       "\n",
       "\\end{description}\n"
      ],
      "text/markdown": [
       "$lambda\n",
       ":   \n",
       "| <!--/--> | visual | textual | speed | \n",
       "|---|---|---|---|---|---|---|---|---|\n",
       "| x1 | 0.7718804 | 0.0000000 | 0.0000000 | \n",
       "| x2 | 0.4236010 | 0.0000000 | 0.0000000 | \n",
       "| x3 | 0.5811323 | 0.0000000 | 0.0000000 | \n",
       "| x4 | 0.0000000 | 0.8515822 | 0.0000000 | \n",
       "| x5 | 0.0000000 | 0.8550654 | 0.0000000 | \n",
       "| x6 | 0.0000000 | 0.8380101 | 0.0000000 | \n",
       "| x7 | 0.0000000 | 0.0000000 | 0.5695147 | \n",
       "| x8 | 0.0000000 | 0.0000000 | 0.7230444 | \n",
       "| x9 | 0.0000000 | 0.0000000 | 0.6650092 | \n",
       "\n",
       "\n",
       "\n",
       "$theta\n",
       ":   \n",
       "| <!--/--> | x1 | x2 | x3 | x4 | x5 | x6 | x7 | x8 | x9 | \n",
       "|---|---|---|---|---|---|---|---|---|\n",
       "| x1 | 0.4042006 | 0.0000000 | 0.0000000 | 0.0000000 | 0.0000000 | 0.0000000 | 0.000000  | 0.0000000 | 0.0000000 | \n",
       "| x2 | 0.0000000 | 0.8205622 | 0.0000000 | 0.0000000 | 0.0000000 | 0.0000000 | 0.000000  | 0.0000000 | 0.0000000 | \n",
       "| x3 | 0.0000000 | 0.0000000 | 0.6622852 | 0.0000000 | 0.0000000 | 0.0000000 | 0.000000  | 0.0000000 | 0.0000000 | \n",
       "| x4 | 0.0000000 | 0.0000000 | 0.0000000 | 0.2748077 | 0.0000000 | 0.0000000 | 0.000000  | 0.0000000 | 0.0000000 | \n",
       "| x5 | 0.0000000 | 0.0000000 | 0.0000000 | 0.0000000 | 0.2688631 | 0.0000000 | 0.000000  | 0.0000000 | 0.0000000 | \n",
       "| x6 | 0.0000000 | 0.0000000 | 0.0000000 | 0.0000000 | 0.0000000 | 0.2977391 | 0.000000  | 0.0000000 | 0.0000000 | \n",
       "| x7 | 0.0000000 | 0.0000000 | 0.0000000 | 0.0000000 | 0.0000000 | 0.0000000 | 0.675653  | 0.0000000 | 0.0000000 | \n",
       "| x8 | 0.0000000 | 0.0000000 | 0.0000000 | 0.0000000 | 0.0000000 | 0.0000000 | 0.000000  | 0.4772067 | 0.0000000 | \n",
       "| x9 | 0.0000000 | 0.0000000 | 0.0000000 | 0.0000000 | 0.0000000 | 0.0000000 | 0.000000  | 0.0000000 | 0.5577627 | \n",
       "\n",
       "\n",
       "\n",
       "$psi\n",
       ":   \n",
       "| <!--/--> | visual | textual | speed | \n",
       "|---|---|---|\n",
       "| visual | 1.0000000 | 0.4585093 | 0.4705345 | \n",
       "| textual | 0.4585093 | 1.0000000 | 0.2829847 | \n",
       "| speed | 0.4705345 | 0.2829847 | 1.0000000 | \n",
       "\n",
       "\n",
       "\n",
       "\n",
       "\n"
      ],
      "text/plain": [
       "$lambda\n",
       "   visual textul speed\n",
       "x1  0.772  0.000 0.000\n",
       "x2  0.424  0.000 0.000\n",
       "x3  0.581  0.000 0.000\n",
       "x4  0.000  0.852 0.000\n",
       "x5  0.000  0.855 0.000\n",
       "x6  0.000  0.838 0.000\n",
       "x7  0.000  0.000 0.570\n",
       "x8  0.000  0.000 0.723\n",
       "x9  0.000  0.000 0.665\n",
       "\n",
       "$theta\n",
       "   x1    x2    x3    x4    x5    x6    x7    x8    x9   \n",
       "x1 0.404                                                \n",
       "x2 0.000 0.821                                          \n",
       "x3 0.000 0.000 0.662                                    \n",
       "x4 0.000 0.000 0.000 0.275                              \n",
       "x5 0.000 0.000 0.000 0.000 0.269                        \n",
       "x6 0.000 0.000 0.000 0.000 0.000 0.298                  \n",
       "x7 0.000 0.000 0.000 0.000 0.000 0.000 0.676            \n",
       "x8 0.000 0.000 0.000 0.000 0.000 0.000 0.000 0.477      \n",
       "x9 0.000 0.000 0.000 0.000 0.000 0.000 0.000 0.000 0.558\n",
       "\n",
       "$psi\n",
       "        visual textul speed\n",
       "visual  1.000              \n",
       "textual 0.459  1.000       \n",
       "speed   0.471  0.283  1.000\n"
      ]
     },
     "metadata": {},
     "output_type": "display_data"
    }
   ],
   "source": [
    "inspect(fit, what = \"std\")"
   ]
  },
  {
   "cell_type": "markdown",
   "metadata": {},
   "source": [
    "### A. The lamdba matrix contains the factor structure\n",
    "### Convergent validity : items/indicators of a specific construct/latent variable should converge or share a high proportion of variance in common. To measure convergent validity we check whether items are \"associated\" with the construct/latent variable"
   ]
  },
  {
   "cell_type": "markdown",
   "metadata": {},
   "source": [
    "### B. the variances/covariances of the latent variables are summarized in the PSI matrix\n",
    "### Discriminant Validity : the extent to which a construct is truly distict from other constructs. The constructs/latent variables seem to be \"almost\" uncorrelated. Each construct explains part of the phenomena under observation"
   ]
  },
  {
   "cell_type": "code",
   "execution_count": null,
   "metadata": {},
   "outputs": [],
   "source": []
  },
  {
   "cell_type": "code",
   "execution_count": null,
   "metadata": {},
   "outputs": [],
   "source": []
  }
 ],
 "metadata": {
  "kernelspec": {
   "display_name": "R",
   "language": "R",
   "name": "r"
  },
  "language_info": {
   "codemirror_mode": "r",
   "file_extension": ".r",
   "mimetype": "text/x-r-source",
   "name": "R",
   "pygments_lexer": "r",
   "version": "3.4.1"
  }
 },
 "nbformat": 4,
 "nbformat_minor": 2
}
