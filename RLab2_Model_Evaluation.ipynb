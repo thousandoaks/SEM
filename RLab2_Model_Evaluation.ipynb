{
 "cells": [
  {
   "cell_type": "code",
   "execution_count": 1,
   "metadata": {},
   "outputs": [
    {
     "name": "stderr",
     "output_type": "stream",
     "text": [
      "Installing package into ‘/home/nbuser/R’\n",
      "(as ‘lib’ is unspecified)\n"
     ]
    }
   ],
   "source": [
    "install.packages(\"lavaan\", dependencies = TRUE)"
   ]
  },
  {
   "cell_type": "code",
   "execution_count": 2,
   "metadata": {},
   "outputs": [
    {
     "name": "stderr",
     "output_type": "stream",
     "text": [
      "This is lavaan 0.6-1\n",
      "lavaan is BETA software! Please report any bugs.\n"
     ]
    }
   ],
   "source": [
    "library(lavaan)"
   ]
  },
  {
   "cell_type": "code",
   "execution_count": 3,
   "metadata": {},
   "outputs": [],
   "source": [
    "\n",
    "dat<-read.csv(\"https://github.com/thousandoaks/SEM/blob/master/SEM_02_1_Intro_to_Lavaan_data.csv?raw=true\")\n",
    "\n",
    "\n"
   ]
  },
  {
   "cell_type": "code",
   "execution_count": 4,
   "metadata": {},
   "outputs": [
    {
     "data": {
      "text/html": [
       "<table>\n",
       "<thead><tr><th scope=col>x1</th><th scope=col>y1</th><th scope=col>y2</th><th scope=col>y3</th></tr></thead>\n",
       "<tbody>\n",
       "\t<tr><td>53.40900 </td><td>60.67103 </td><td>1.0387974</td><td>51       </td></tr>\n",
       "\t<tr><td>37.03745 </td><td>40.94291 </td><td>0.4775924</td><td>31       </td></tr>\n",
       "\t<tr><td>53.69565 </td><td>50.98805 </td><td>0.9489357</td><td>71       </td></tr>\n",
       "\t<tr><td>53.69565 </td><td>61.15633 </td><td>1.1949002</td><td>64       </td></tr>\n",
       "\t<tr><td>51.95985 </td><td>46.66807 </td><td>1.2981890</td><td>68       </td></tr>\n",
       "\t<tr><td>51.95985 </td><td>39.82357 </td><td>1.1734866</td><td>34       </td></tr>\n",
       "</tbody>\n",
       "</table>\n"
      ],
      "text/latex": [
       "\\begin{tabular}{r|llll}\n",
       " x1 & y1 & y2 & y3\\\\\n",
       "\\hline\n",
       "\t 53.40900  & 60.67103  & 1.0387974 & 51       \\\\\n",
       "\t 37.03745  & 40.94291  & 0.4775924 & 31       \\\\\n",
       "\t 53.69565  & 50.98805  & 0.9489357 & 71       \\\\\n",
       "\t 53.69565  & 61.15633  & 1.1949002 & 64       \\\\\n",
       "\t 51.95985  & 46.66807  & 1.2981890 & 68       \\\\\n",
       "\t 51.95985  & 39.82357  & 1.1734866 & 34       \\\\\n",
       "\\end{tabular}\n"
      ],
      "text/markdown": [
       "\n",
       "x1 | y1 | y2 | y3 | \n",
       "|---|---|---|---|---|---|\n",
       "| 53.40900  | 60.67103  | 1.0387974 | 51        | \n",
       "| 37.03745  | 40.94291  | 0.4775924 | 31        | \n",
       "| 53.69565  | 50.98805  | 0.9489357 | 71        | \n",
       "| 53.69565  | 61.15633  | 1.1949002 | 64        | \n",
       "| 51.95985  | 46.66807  | 1.2981890 | 68        | \n",
       "| 51.95985  | 39.82357  | 1.1734866 | 34        | \n",
       "\n",
       "\n"
      ],
      "text/plain": [
       "  x1       y1       y2        y3\n",
       "1 53.40900 60.67103 1.0387974 51\n",
       "2 37.03745 40.94291 0.4775924 31\n",
       "3 53.69565 50.98805 0.9489357 71\n",
       "4 53.69565 61.15633 1.1949002 64\n",
       "5 51.95985 46.66807 1.2981890 68\n",
       "6 51.95985 39.82357 1.1734866 34"
      ]
     },
     "metadata": {},
     "output_type": "display_data"
    }
   ],
   "source": [
    "head(dat)"
   ]
  },
  {
   "cell_type": "code",
   "execution_count": 16,
   "metadata": {},
   "outputs": [],
   "source": [
    "# Step 1: Specify model\n",
    "mod.1 <- 'y1 ~ x1\n",
    "          y2 ~ x1\n",
    "          y3 ~ y1 + y2'"
   ]
  },
  {
   "cell_type": "code",
   "execution_count": 17,
   "metadata": {},
   "outputs": [
    {
     "name": "stderr",
     "output_type": "stream",
     "text": [
      "Warning message in lav_data_full(data = data, group = group, cluster = cluster, :\n",
      "“lavaan WARNING: some observed variances are (at least) a factor 1000 times larger than others; use varTable(fit) to investigate”"
     ]
    }
   ],
   "source": [
    "# Step 2: Estimate model\n",
    "mod.1.fit <- sem(mod.1, data=dat)\n"
   ]
  },
  {
   "cell_type": "code",
   "execution_count": 18,
   "metadata": {},
   "outputs": [],
   "source": [
    "## Recode vars to roughly same scale\n",
    "x1 <- dat$x1/100\n",
    "y1 <- dat$y1/100\n",
    "y2 <- dat$y2\n",
    "y3 <- dat$y3/100"
   ]
  },
  {
   "cell_type": "code",
   "execution_count": 19,
   "metadata": {},
   "outputs": [
    {
     "data": {
      "text/plain": [
       "       x1               y1               y2                y3        \n",
       " Min.   :0.3704   Min.   :0.3259   Min.   :0.05558   Min.   :0.1500  \n",
       " 1st Qu.:0.3946   1st Qu.:0.4381   1st Qu.:0.48769   1st Qu.:0.3700  \n",
       " Median :0.5177   Median :0.4804   Median :0.63712   Median :0.5000  \n",
       " Mean   :0.4923   Mean   :0.4924   Mean   :0.69123   Mean   :0.4923  \n",
       " 3rd Qu.:0.5840   3rd Qu.:0.5490   3rd Qu.:0.91468   3rd Qu.:0.6200  \n",
       " Max.   :0.6072   Max.   :0.7046   Max.   :1.53541   Max.   :0.8500  "
      ]
     },
     "metadata": {},
     "output_type": "display_data"
    }
   ],
   "source": [
    "### Create Transformed Dataset\n",
    "# overwrite file with recoded data\n",
    "t.dat <- data.frame(x1, y1, y2, y3)\n",
    "summary(t.dat)"
   ]
  },
  {
   "cell_type": "code",
   "execution_count": 20,
   "metadata": {},
   "outputs": [],
   "source": [
    "##### Repeat Lavaan modeling\n",
    "\n",
    "# Step 1: Specify model\n",
    "mod.1 <- 'y1 ~ x1\n",
    "          y2 ~ x1\n",
    "          y3 ~ y1 + y2'"
   ]
  },
  {
   "cell_type": "code",
   "execution_count": 21,
   "metadata": {},
   "outputs": [],
   "source": [
    "# Step 2: Estimate model\n",
    "mod.1.fit <- sem(mod.1, data=t.dat)"
   ]
  },
  {
   "cell_type": "code",
   "execution_count": 22,
   "metadata": {},
   "outputs": [
    {
     "name": "stdout",
     "output_type": "stream",
     "text": [
      "lavaan (0.6-1) converged normally after  27 iterations\n",
      "\n",
      "  Number of observations                            90\n",
      "\n",
      "  Estimator                                         ML\n",
      "  Model Fit Test Statistic                      17.729\n",
      "  Degrees of freedom                                 2\n",
      "  P-value (Chi-square)                           0.000\n",
      "\n",
      "Parameter Estimates:\n",
      "\n",
      "  Information                                 Expected\n",
      "  Information saturated (h1) model          Structured\n",
      "  Standard Errors                             Standard\n",
      "\n",
      "Regressions:\n",
      "                   Estimate  Std.Err  z-value  P(>|z|)\n",
      "  y1 ~                                                \n",
      "    x1                0.400    0.081    4.911    0.000\n",
      "  y2 ~                                                \n",
      "    x1                0.875    0.367    2.381    0.017\n",
      "  y3 ~                                                \n",
      "    y1                0.935    0.171    5.475    0.000\n",
      "    y2                0.129    0.041    3.121    0.002\n",
      "\n",
      "Variances:\n",
      "                   Estimate  Std.Err  z-value  P(>|z|)\n",
      "   .y1                0.005    0.001    6.708    0.000\n",
      "   .y2                0.094    0.014    6.708    0.000\n",
      "   .y3                0.015    0.002    6.708    0.000\n",
      "\n"
     ]
    }
   ],
   "source": [
    "# Step 3: Extract results\n",
    "summary(mod.1.fit) \n"
   ]
  },
  {
   "cell_type": "markdown",
   "metadata": {},
   "source": [
    "### 1. Are we missing any important link ?"
   ]
  },
  {
   "cell_type": "code",
   "execution_count": 23,
   "metadata": {},
   "outputs": [
    {
     "name": "stdout",
     "output_type": "stream",
     "text": [
      "lavaan (0.6-1) converged normally after  27 iterations\n",
      "\n",
      "  Number of observations                            90\n",
      "\n",
      "  Estimator                                         ML\n",
      "  Model Fit Test Statistic                      17.729\n",
      "  Degrees of freedom                                 2\n",
      "  P-value (Chi-square)                           0.000\n",
      "\n",
      "Parameter Estimates:\n",
      "\n",
      "  Information                                 Expected\n",
      "  Information saturated (h1) model          Structured\n",
      "  Standard Errors                             Standard\n",
      "\n",
      "Regressions:\n",
      "                   Estimate  Std.Err  z-value  P(>|z|)\n",
      "  y1 ~                                                \n",
      "    x1                0.400    0.081    4.911    0.000\n",
      "  y2 ~                                                \n",
      "    x1                0.875    0.367    2.381    0.017\n",
      "  y3 ~                                                \n",
      "    y1                0.935    0.171    5.475    0.000\n",
      "    y2                0.129    0.041    3.121    0.002\n",
      "\n",
      "Variances:\n",
      "                   Estimate  Std.Err  z-value  P(>|z|)\n",
      "   .y1                0.005    0.001    6.708    0.000\n",
      "   .y2                0.094    0.014    6.708    0.000\n",
      "   .y3                0.015    0.002    6.708    0.000\n",
      "\n",
      "Modification Indices:\n",
      "\n",
      "   lhs op rhs     mi    epc sepc.lv sepc.all sepc.nox\n",
      "8   x1 ~~  x1  0.000  0.000   0.000    0.000    0.000\n",
      "9   y1 ~~  y2  0.014  0.000   0.000    0.012    0.012\n",
      "10  y1 ~~  y3 16.119 -0.008  -0.008   -0.943   -0.943\n",
      "11  y2 ~~  y3 16.119 -0.073  -0.073   -1.945   -1.945\n",
      "12  y1  ~  y2  0.014  0.003   0.003    0.011    0.011\n",
      "13  y1  ~  y3 10.215 -0.337  -0.337   -0.662   -0.662\n",
      "14  y2  ~  y1  0.014  0.056   0.056    0.014    0.014\n",
      "15  y2  ~  y3  2.107 -0.681  -0.681   -0.324   -0.324\n",
      "16  y3  ~  x1 16.119  0.683   0.683    0.400    4.556\n",
      "17  x1  ~  y1  0.000  0.000   0.000    0.000    0.000\n",
      "18  x1  ~  y2  0.000  0.000   0.000    0.000    0.000\n",
      "19  x1  ~  y3 15.946  0.345   0.345    0.590    0.590\n"
     ]
    }
   ],
   "source": [
    "summary(mod.1.fit,modindices=TRUE)"
   ]
  },
  {
   "cell_type": "code",
   "execution_count": null,
   "metadata": {},
   "outputs": [],
   "source": [
    "### Lavaan is suggesting us to add x1--->y3"
   ]
  },
  {
   "cell_type": "code",
   "execution_count": 24,
   "metadata": {},
   "outputs": [],
   "source": [
    "# Step 1: Specify the model\n",
    "mod.2 <- 'y1 ~ x1\n",
    "          y2 ~ x1\n",
    "          y3 ~ y1 + y2+x1'\n"
   ]
  },
  {
   "cell_type": "code",
   "execution_count": 25,
   "metadata": {},
   "outputs": [],
   "source": [
    "# Step 2: Estimate model\n",
    "mod.2.fit <- sem(mod.2, data=t.dat)"
   ]
  },
  {
   "cell_type": "code",
   "execution_count": 26,
   "metadata": {},
   "outputs": [
    {
     "name": "stdout",
     "output_type": "stream",
     "text": [
      "lavaan (0.6-1) converged normally after  30 iterations\n",
      "\n",
      "  Number of observations                            90\n",
      "\n",
      "  Estimator                                         ML\n",
      "  Model Fit Test Statistic                       0.014\n",
      "  Degrees of freedom                                 1\n",
      "  P-value (Chi-square)                           0.906\n",
      "\n",
      "Parameter Estimates:\n",
      "\n",
      "  Information                                 Expected\n",
      "  Information saturated (h1) model          Structured\n",
      "  Standard Errors                             Standard\n",
      "\n",
      "Regressions:\n",
      "                   Estimate  Std.Err  z-value  P(>|z|)\n",
      "  y1 ~                                                \n",
      "    x1                0.400    0.081    4.911    0.000\n",
      "  y2 ~                                                \n",
      "    x1                0.875    0.367    2.381    0.017\n",
      "  y3 ~                                                \n",
      "    y1                0.593    0.173    3.423    0.001\n",
      "    y2                0.093    0.038    2.422    0.015\n",
      "    x1                0.682    0.154    4.419    0.000\n",
      "\n",
      "Variances:\n",
      "                   Estimate  Std.Err  z-value  P(>|z|)\n",
      "   .y1                0.005    0.001    6.708    0.000\n",
      "   .y2                0.094    0.014    6.708    0.000\n",
      "   .y3                0.012    0.002    6.708    0.000\n",
      "\n"
     ]
    }
   ],
   "source": [
    "#Step 3: Extract results\n",
    "summary(mod.2.fit)"
   ]
  },
  {
   "cell_type": "markdown",
   "metadata": {},
   "source": [
    "### based on the p-value our model is \"very close\" to the data\n",
    "### We notice that the Minimum Function Test Statistic has dropped to almost zero."
   ]
  },
  {
   "cell_type": "markdown",
   "metadata": {},
   "source": [
    "#### So adding the lik made a big difference. Our results imply that y1 an y2 cannot explain all effects of x1 on y3"
   ]
  },
  {
   "cell_type": "markdown",
   "metadata": {},
   "source": [
    "### 2. Are all the links supported by the model ?"
   ]
  },
  {
   "cell_type": "markdown",
   "metadata": {},
   "source": [
    "### We will compare the two models with a third one  (fully saturated)"
   ]
  },
  {
   "cell_type": "code",
   "execution_count": 27,
   "metadata": {},
   "outputs": [],
   "source": [
    "# Step 1: Specify the model\n",
    "\n",
    "mod.3 <- 'y1 ~ x1\n",
    "          y2 ~ x1\n",
    "          y3 ~ y1 + y2+x1\n",
    "           y1 ~~ y2'\n"
   ]
  },
  {
   "cell_type": "code",
   "execution_count": 28,
   "metadata": {},
   "outputs": [],
   "source": [
    "# Step 2: Estimate model\n",
    "mod.3.fit <- sem(mod.3, data=t.dat)"
   ]
  },
  {
   "cell_type": "code",
   "execution_count": 29,
   "metadata": {},
   "outputs": [
    {
     "name": "stdout",
     "output_type": "stream",
     "text": [
      "lavaan (0.6-1) converged normally after  37 iterations\n",
      "\n",
      "  Number of observations                            90\n",
      "\n",
      "  Estimator                                         ML\n",
      "  Model Fit Test Statistic                       0.000\n",
      "  Degrees of freedom                                 0\n",
      "\n",
      "Parameter Estimates:\n",
      "\n",
      "  Information                                 Expected\n",
      "  Information saturated (h1) model          Structured\n",
      "  Standard Errors                             Standard\n",
      "\n",
      "Regressions:\n",
      "                   Estimate  Std.Err  z-value  P(>|z|)\n",
      "  y1 ~                                                \n",
      "    x1                0.400    0.081    4.911    0.000\n",
      "  y2 ~                                                \n",
      "    x1                0.875    0.367    2.381    0.017\n",
      "  y3 ~                                                \n",
      "    y1                0.593    0.173    3.422    0.001\n",
      "    y2                0.093    0.038    2.422    0.015\n",
      "    x1                0.682    0.154    4.425    0.000\n",
      "\n",
      "Covariances:\n",
      "                   Estimate  Std.Err  z-value  P(>|z|)\n",
      " .y1 ~~                                               \n",
      "   .y2                0.000    0.002    0.118    0.906\n",
      "\n",
      "Variances:\n",
      "                   Estimate  Std.Err  z-value  P(>|z|)\n",
      "   .y1                0.005    0.001    6.708    0.000\n",
      "   .y2                0.094    0.014    6.708    0.000\n",
      "   .y3                0.012    0.002    6.708    0.000\n",
      "\n"
     ]
    }
   ],
   "source": [
    "#Step 3: Extract results\n",
    "summary(mod.3.fit)"
   ]
  },
  {
   "cell_type": "code",
   "execution_count": null,
   "metadata": {},
   "outputs": [],
   "source": []
  },
  {
   "cell_type": "code",
   "execution_count": 50,
   "metadata": {},
   "outputs": [
    {
     "data": {
      "text/html": [
       "<strong>aic:</strong> -294.67023009221"
      ],
      "text/latex": [
       "\\textbf{aic:} -294.67023009221"
      ],
      "text/markdown": [
       "**aic:** -294.67023009221"
      ],
      "text/plain": [
       "    aic \n",
       "-294.67 "
      ]
     },
     "metadata": {},
     "output_type": "display_data"
    },
    {
     "data": {
      "text/html": [
       "<strong>aic:</strong> -310.385297160123"
      ],
      "text/latex": [
       "\\textbf{aic:} -310.385297160123"
      ],
      "text/markdown": [
       "**aic:** -310.385297160123"
      ],
      "text/plain": [
       "     aic \n",
       "-310.385 "
      ]
     },
     "metadata": {},
     "output_type": "display_data"
    },
    {
     "data": {
      "text/html": [
       "<strong>aic:</strong> -308.399303079762"
      ],
      "text/latex": [
       "\\textbf{aic:} -308.399303079762"
      ],
      "text/markdown": [
       "**aic:** -308.399303079762"
      ],
      "text/plain": [
       "     aic \n",
       "-308.399 "
      ]
     },
     "metadata": {},
     "output_type": "display_data"
    }
   ],
   "source": [
    "fitMeasures(mod.1.fit, \"aic\")\n",
    "fitMeasures(mod.2.fit, \"aic\")\n",
    "fitMeasures(mod.3.fit, \"aic\")"
   ]
  },
  {
   "cell_type": "markdown",
   "metadata": {},
   "source": [
    "### It seems that model2 has the lowest AIC, thus we select the second model"
   ]
  },
  {
   "cell_type": "code",
   "execution_count": 62,
   "metadata": {},
   "outputs": [
    {
     "name": "stdout",
     "output_type": "stream",
     "text": [
      "lavaan (0.6-1) converged normally after  30 iterations\n",
      "\n",
      "  Number of observations                            90\n",
      "\n",
      "  Estimator                                         ML\n",
      "  Model Fit Test Statistic                       0.014\n",
      "  Degrees of freedom                                 1\n",
      "  P-value (Chi-square)                           0.906\n",
      "\n",
      "Parameter Estimates:\n",
      "\n",
      "  Information                                 Expected\n",
      "  Information saturated (h1) model          Structured\n",
      "  Standard Errors                             Standard\n",
      "\n",
      "Regressions:\n",
      "                   Estimate  Std.Err  z-value  P(>|z|)   Std.lv  Std.all\n",
      "  y1 ~                                                                  \n",
      "    x1                0.400    0.081    4.911    0.000    0.400    0.460\n",
      "  y2 ~                                                                  \n",
      "    x1                0.875    0.367    2.381    0.017    0.875    0.243\n",
      "  y3 ~                                                                  \n",
      "    y1                0.593    0.173    3.423    0.001    0.593    0.301\n",
      "    y2                0.093    0.038    2.422    0.015    0.093    0.195\n",
      "    x1                0.682    0.154    4.419    0.000    0.682    0.399\n",
      "\n",
      "Variances:\n",
      "                   Estimate  Std.Err  z-value  P(>|z|)   Std.lv  Std.all\n",
      "   .y1                0.005    0.001    6.708    0.000    0.005    0.789\n",
      "   .y2                0.094    0.014    6.708    0.000    0.094    0.941\n",
      "   .y3                0.012    0.002    6.708    0.000    0.012    0.550\n",
      "\n",
      "R-Square:\n",
      "                   Estimate\n",
      "    y1                0.211\n",
      "    y2                0.059\n",
      "    y3                0.450\n",
      "\n"
     ]
    }
   ],
   "source": [
    "### More output for selected model\n",
    "summary(mod.2.fit, rsq=T, standardized=T)\n"
   ]
  },
  {
   "cell_type": "code",
   "execution_count": 63,
   "metadata": {},
   "outputs": [
    {
     "data": {
      "text/html": [
       "<table>\n",
       "<thead><tr><th scope=col>lhs</th><th scope=col>op</th><th scope=col>rhs</th><th scope=col>est.std</th><th scope=col>se</th><th scope=col>z</th><th scope=col>pvalue</th><th scope=col>ci.lower</th><th scope=col>ci.upper</th></tr></thead>\n",
       "<tbody>\n",
       "\t<tr><td>y1          </td><td>~           </td><td>x1          </td><td>0.4597233   </td><td>0.07861649  </td><td> 5.847670   </td><td>4.985064e-09</td><td>0.30563780  </td><td>0.6138088   </td></tr>\n",
       "\t<tr><td>y2          </td><td>~           </td><td>x1          </td><td>0.2434531   </td><td>0.09768134  </td><td> 2.492320   </td><td>1.269117e-02</td><td>0.05200122  </td><td>0.4349051   </td></tr>\n",
       "\t<tr><td>y3          </td><td>~           </td><td>y1          </td><td>0.3014040   </td><td>0.08592288  </td><td> 3.507843   </td><td>4.517554e-04</td><td>0.13299822  </td><td>0.4698097   </td></tr>\n",
       "\t<tr><td>y3          </td><td>~           </td><td>y2          </td><td>0.1953056   </td><td>0.07997067  </td><td> 2.442216   </td><td>1.459742e-02</td><td>0.03856600  </td><td>0.3520453   </td></tr>\n",
       "\t<tr><td>y3          </td><td>~           </td><td>x1          </td><td>0.3987369   </td><td>0.08349114  </td><td> 4.775799   </td><td>1.789952e-06</td><td>0.23509727  </td><td>0.5623765   </td></tr>\n",
       "\t<tr><td>y1          </td><td>~~          </td><td>y1          </td><td>0.7886545   </td><td>0.07228366  </td><td>10.910550   </td><td>0.000000e+00</td><td>0.64698112  </td><td>0.9303279   </td></tr>\n",
       "\t<tr><td>y2          </td><td>~~          </td><td>y2          </td><td>0.9407306   </td><td>0.04756166  </td><td>19.779179   </td><td>0.000000e+00</td><td>0.84751143  </td><td>1.0339497   </td></tr>\n",
       "\t<tr><td>y3          </td><td>~~          </td><td>y3          </td><td>0.5504256   </td><td>0.07232793  </td><td> 7.610139   </td><td>2.731149e-14</td><td>0.40866545  </td><td>0.6921857   </td></tr>\n",
       "\t<tr><td>x1          </td><td>~~          </td><td>x1          </td><td>1.0000000   </td><td>0.00000000  </td><td>       NA   </td><td>          NA</td><td>1.00000000  </td><td>1.0000000   </td></tr>\n",
       "</tbody>\n",
       "</table>\n"
      ],
      "text/latex": [
       "\\begin{tabular}{r|lllllllll}\n",
       " lhs & op & rhs & est.std & se & z & pvalue & ci.lower & ci.upper\\\\\n",
       "\\hline\n",
       "\t y1                  & \\textasciitilde{}  & x1                  & 0.4597233           & 0.07861649          &  5.847670           & 4.985064e-09        & 0.30563780          & 0.6138088          \\\\\n",
       "\t y2                  & \\textasciitilde{}  & x1                  & 0.2434531           & 0.09768134          &  2.492320           & 1.269117e-02        & 0.05200122          & 0.4349051          \\\\\n",
       "\t y3                  & \\textasciitilde{}  & y1                  & 0.3014040           & 0.08592288          &  3.507843           & 4.517554e-04        & 0.13299822          & 0.4698097          \\\\\n",
       "\t y3                  & \\textasciitilde{}  & y2                  & 0.1953056           & 0.07997067          &  2.442216           & 1.459742e-02        & 0.03856600          & 0.3520453          \\\\\n",
       "\t y3                  & \\textasciitilde{}  & x1                  & 0.3987369           & 0.08349114          &  4.775799           & 1.789952e-06        & 0.23509727          & 0.5623765          \\\\\n",
       "\t y1                                   & \\textasciitilde{}\\textasciitilde{} & y1                                   & 0.7886545                            & 0.07228366                           & 10.910550                            & 0.000000e+00                         & 0.64698112                           & 0.9303279                           \\\\\n",
       "\t y2                                   & \\textasciitilde{}\\textasciitilde{} & y2                                   & 0.9407306                            & 0.04756166                           & 19.779179                            & 0.000000e+00                         & 0.84751143                           & 1.0339497                           \\\\\n",
       "\t y3                                   & \\textasciitilde{}\\textasciitilde{} & y3                                   & 0.5504256                            & 0.07232793                           &  7.610139                            & 2.731149e-14                         & 0.40866545                           & 0.6921857                           \\\\\n",
       "\t x1                                   & \\textasciitilde{}\\textasciitilde{} & x1                                   & 1.0000000                            & 0.00000000                           &        NA                            &           NA                         & 1.00000000                           & 1.0000000                           \\\\\n",
       "\\end{tabular}\n"
      ],
      "text/markdown": [
       "\n",
       "lhs | op | rhs | est.std | se | z | pvalue | ci.lower | ci.upper | \n",
       "|---|---|---|---|---|---|---|---|---|\n",
       "| y1           | ~            | x1           | 0.4597233    | 0.07861649   |  5.847670    | 4.985064e-09 | 0.30563780   | 0.6138088    | \n",
       "| y2           | ~            | x1           | 0.2434531    | 0.09768134   |  2.492320    | 1.269117e-02 | 0.05200122   | 0.4349051    | \n",
       "| y3           | ~            | y1           | 0.3014040    | 0.08592288   |  3.507843    | 4.517554e-04 | 0.13299822   | 0.4698097    | \n",
       "| y3           | ~            | y2           | 0.1953056    | 0.07997067   |  2.442216    | 1.459742e-02 | 0.03856600   | 0.3520453    | \n",
       "| y3           | ~            | x1           | 0.3987369    | 0.08349114   |  4.775799    | 1.789952e-06 | 0.23509727   | 0.5623765    | \n",
       "| y1           | ~~           | y1           | 0.7886545    | 0.07228366   | 10.910550    | 0.000000e+00 | 0.64698112   | 0.9303279    | \n",
       "| y2           | ~~           | y2           | 0.9407306    | 0.04756166   | 19.779179    | 0.000000e+00 | 0.84751143   | 1.0339497    | \n",
       "| y3           | ~~           | y3           | 0.5504256    | 0.07232793   |  7.610139    | 2.731149e-14 | 0.40866545   | 0.6921857    | \n",
       "| x1           | ~~           | x1           | 1.0000000    | 0.00000000   |        NA    |           NA | 1.00000000   | 1.0000000    | \n",
       "\n",
       "\n"
      ],
      "text/plain": [
       "  lhs op rhs est.std   se         z         pvalue       ci.lower   ci.upper \n",
       "1 y1  ~  x1  0.4597233 0.07861649  5.847670 4.985064e-09 0.30563780 0.6138088\n",
       "2 y2  ~  x1  0.2434531 0.09768134  2.492320 1.269117e-02 0.05200122 0.4349051\n",
       "3 y3  ~  y1  0.3014040 0.08592288  3.507843 4.517554e-04 0.13299822 0.4698097\n",
       "4 y3  ~  y2  0.1953056 0.07997067  2.442216 1.459742e-02 0.03856600 0.3520453\n",
       "5 y3  ~  x1  0.3987369 0.08349114  4.775799 1.789952e-06 0.23509727 0.5623765\n",
       "6 y1  ~~ y1  0.7886545 0.07228366 10.910550 0.000000e+00 0.64698112 0.9303279\n",
       "7 y2  ~~ y2  0.9407306 0.04756166 19.779179 0.000000e+00 0.84751143 1.0339497\n",
       "8 y3  ~~ y3  0.5504256 0.07232793  7.610139 2.731149e-14 0.40866545 0.6921857\n",
       "9 x1  ~~ x1  1.0000000 0.00000000        NA           NA 1.00000000 1.0000000"
      ]
     },
     "metadata": {},
     "output_type": "display_data"
    }
   ],
   "source": [
    "standardizedSolution(mod.2.fit, type = \"std.all\")"
   ]
  },
  {
   "cell_type": "code",
   "execution_count": null,
   "metadata": {},
   "outputs": [],
   "source": []
  },
  {
   "cell_type": "code",
   "execution_count": null,
   "metadata": {},
   "outputs": [],
   "source": []
  },
  {
   "cell_type": "code",
   "execution_count": null,
   "metadata": {},
   "outputs": [],
   "source": []
  }
 ],
 "metadata": {
  "kernelspec": {
   "display_name": "R",
   "language": "R",
   "name": "r"
  },
  "language_info": {
   "codemirror_mode": "r",
   "file_extension": ".r",
   "mimetype": "text/x-r-source",
   "name": "R",
   "pygments_lexer": "r",
   "version": "3.4.1"
  }
 },
 "nbformat": 4,
 "nbformat_minor": 2
}
