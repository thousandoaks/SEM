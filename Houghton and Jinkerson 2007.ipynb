{
  "cells": [
    {
      "metadata": {
        "trusted": true
      },
      "cell_type": "code",
      "source": "# 4-Factor CFA. Figure 10.2 CFA, Table 10.1\n\nlibrary(lavaan)\n\n#read in data and prep\n\nex10.2dat <-scan('http://www.guilford.com/add/kline_old/chapter10/mplus/houghton-mplus.dat')\nmySDs <- ex10.2dat[1:12]\nmycors <- lower2full(ex10.2dat[13:length(ex10.2dat)])\n\nmyvarcov <- cor2cov(mycors, mySDs)\n\nmynames <- c(\"work1\", \"work2\", \"work3\", \"happy\", \"mood1\", \"mood2\", \"perform1\", \"perform2\", \"approval\", \"beliefs\", \"selftalk\", \"imagery\")\ncolnames(myvarcov) <- mynames\nrownames(myvarcov) <- mynames\n\nnObs <- 263\n",
      "execution_count": 2,
      "outputs": [
        {
          "output_type": "stream",
          "text": "Warning message:\n“'lower2full' is deprecated.\nUse 'lav_matrix_lower2full' instead.\nSee help(\"Deprecated\") and help(\"lavaan-deprecated\").”",
          "name": "stderr"
        }
      ]
    },
    {
      "metadata": {},
      "cell_type": "markdown",
      "source": "## Step 1. CFA"
    },
    {
      "metadata": {
        "trusted": true
      },
      "cell_type": "code",
      "source": "#Specify Model \n\nex10.2mod <- 'Construc =~ beliefs + selftalk + imagery\n\t\t\t  Dysfunc =~ perform1 + perform2 + approval\n\t\t\t  WellBe =~ happy + mood1 + mood2\n\t\t\t  JobSat =~ work1 + work2 + work3'\n",
      "execution_count": 7,
      "outputs": []
    },
    {
      "metadata": {
        "trusted": true
      },
      "cell_type": "code",
      "source": "#Fit model \nfitex10.2mod <- cfa(ex10.2mod, sample.cov=myvarcov, meanstructure=FALSE, sample.nobs=nObs, fixed.x=TRUE, std.lv=FALSE)",
      "execution_count": 8,
      "outputs": []
    },
    {
      "metadata": {
        "trusted": true,
        "scrolled": false
      },
      "cell_type": "code",
      "source": "summary(fitex10.2mod, standardized=TRUE, fit.measures=TRUE, rsquare=TRUE)",
      "execution_count": 9,
      "outputs": [
        {
          "output_type": "stream",
          "text": "lavaan 0.6-3 ended normally after 49 iterations\n\n  Optimization method                           NLMINB\n  Number of free parameters                         30\n\n  Number of observations                           263\n\n  Estimator                                         ML\n  Model Fit Test Statistic                      62.468\n  Degrees of freedom                                48\n  P-value (Chi-square)                           0.078\n\nModel test baseline model:\n\n  Minimum Function Test Statistic             1087.490\n  Degrees of freedom                                66\n  P-value                                        0.000\n\nUser model versus baseline model:\n\n  Comparative Fit Index (CFI)                    0.986\n  Tucker-Lewis Index (TLI)                       0.981\n\nLoglikelihood and Information Criteria:\n\n  Loglikelihood user model (H0)              -3124.170\n  Loglikelihood unrestricted model (H1)      -3092.936\n\n  Number of free parameters                         30\n  Akaike (AIC)                                6308.340\n  Bayesian (BIC)                              6415.505\n  Sample-size adjusted Bayesian (BIC)         6320.390\n\nRoot Mean Square Error of Approximation:\n\n  RMSEA                                          0.034\n  90 Percent Confidence Interval          0.000  0.056\n  P-value RMSEA <= 0.05                          0.880\n\nStandardized Root Mean Square Residual:\n\n  SRMR                                           0.040\n\nParameter Estimates:\n\n  Information                                 Expected\n  Information saturated (h1) model          Structured\n  Standard Errors                             Standard\n\nLatent Variables:\n                   Estimate  Std.Err  z-value  P(>|z|)   Std.lv  Std.all\n  Construc =~                                                           \n    beliefs           1.000                               0.460    0.649\n    selftalk          1.053    0.178    5.914    0.000    0.485    0.432\n    imagery           1.889    0.329    5.739    0.000    0.870    0.871\n  Dysfunc =~                                                            \n    perform1          1.000                               0.486    0.832\n    perform2          1.129    0.080   14.062    0.000    0.548    0.902\n    approval          0.992    0.089   11.177    0.000    0.482    0.660\n  WellBe =~                                                             \n    happy             1.000                               0.339    0.604\n    mood1             1.792    0.246    7.297    0.000    0.607    0.800\n    mood2             0.817    0.126    6.482    0.000    0.277    0.529\n  JobSat =~                                                             \n    work1             1.000                               0.786    0.839\n    work2             1.035    0.081   12.763    0.000    0.814    0.802\n    work3             0.891    0.073   12.147    0.000    0.701    0.749\n\nCovariances:\n                   Estimate  Std.Err  z-value  P(>|z|)   Std.lv  Std.all\n  Construc ~~                                                           \n    Dysfunc          -0.028    0.017   -1.640    0.101   -0.124   -0.124\n    WellBe            0.025    0.013    1.896    0.058    0.162    0.162\n    JobSat            0.060    0.029    2.090    0.037    0.165    0.165\n  Dysfunc ~~                                                            \n    WellBe           -0.077    0.016   -4.817    0.000   -0.468   -0.468\n    JobSat           -0.131    0.030   -4.447    0.000   -0.344   -0.344\n  WellBe ~~                                                             \n    JobSat            0.124    0.026    4.786    0.000    0.468    0.468\n\nVariances:\n                   Estimate  Std.Err  z-value  P(>|z|)   Std.lv  Std.all\n   .beliefs           0.292    0.042    6.871    0.000    0.292    0.579\n   .selftalk          1.023    0.097   10.507    0.000    1.023    0.813\n   .imagery           0.242    0.123    1.972    0.049    0.242    0.242\n   .perform1          0.105    0.016    6.706    0.000    0.105    0.308\n   .perform2          0.069    0.017    4.013    0.000    0.069    0.186\n   .approval          0.300    0.030   10.178    0.000    0.300    0.564\n   .happy             0.200    0.022    8.993    0.000    0.200    0.635\n   .mood1             0.207    0.045    4.635    0.000    0.207    0.360\n   .mood2             0.197    0.020    9.889    0.000    0.197    0.720\n   .work1             0.261    0.042    6.229    0.000    0.261    0.297\n   .work2             0.368    0.050    7.399    0.000    0.368    0.357\n   .work3             0.384    0.044    8.684    0.000    0.384    0.439\n    Construc          0.212    0.049    4.295    0.000    1.000    1.000\n    Dysfunc           0.236    0.031    7.608    0.000    1.000    1.000\n    WellBe            0.115    0.025    4.537    0.000    1.000    1.000\n    JobSat            0.618    0.081    7.615    0.000    1.000    1.000\n\nR-Square:\n                   Estimate\n    beliefs           0.421\n    selftalk          0.187\n    imagery           0.758\n    perform1          0.692\n    perform2          0.814\n    approval          0.436\n    happy             0.365\n    mood1             0.640\n    mood2             0.280\n    work1             0.703\n    work2             0.643\n    work3             0.561\n\n",
          "name": "stdout"
        }
      ]
    },
    {
      "metadata": {},
      "cell_type": "markdown",
      "source": "## Step 1. CFA (correction)"
    },
    {
      "metadata": {
        "trusted": true
      },
      "cell_type": "code",
      "source": "#Specify Model \n\nex10.2mod <- 'Construc =~ beliefs + selftalk + imagery\n\t\t\t  Dysfunc =~ perform1 + perform2 + approval\n\t\t\t  WellBe =~ happy + mood1 + mood2\n\t\t\t  JobSat =~ work1 + work2 + work3\n\t\t\t  happy ~~ mood2'\n\t\t\t  \n",
      "execution_count": 10,
      "outputs": []
    },
    {
      "metadata": {
        "trusted": true
      },
      "cell_type": "code",
      "source": "#Fit model \nfitex10.2mod <- cfa(ex10.2mod, sample.cov=myvarcov, meanstructure=FALSE, sample.nobs=nObs, fixed.x=TRUE, std.lv=FALSE)\n",
      "execution_count": 11,
      "outputs": []
    },
    {
      "metadata": {
        "trusted": true
      },
      "cell_type": "code",
      "source": "summary(fitex10.2mod, standardized=TRUE, fit.measures=TRUE, rsquare=TRUE) \n",
      "execution_count": 12,
      "outputs": [
        {
          "output_type": "stream",
          "text": "lavaan 0.6-3 ended normally after 56 iterations\n\n  Optimization method                           NLMINB\n  Number of free parameters                         31\n\n  Number of observations                           263\n\n  Estimator                                         ML\n  Model Fit Test Statistic                      56.662\n  Degrees of freedom                                47\n  P-value (Chi-square)                           0.158\n\nModel test baseline model:\n\n  Minimum Function Test Statistic             1087.490\n  Degrees of freedom                                66\n  P-value                                        0.000\n\nUser model versus baseline model:\n\n  Comparative Fit Index (CFI)                    0.991\n  Tucker-Lewis Index (TLI)                       0.987\n\nLoglikelihood and Information Criteria:\n\n  Loglikelihood user model (H0)              -3121.267\n  Loglikelihood unrestricted model (H1)      -3092.936\n\n  Number of free parameters                         31\n  Akaike (AIC)                                6304.534\n  Bayesian (BIC)                              6415.270\n  Sample-size adjusted Bayesian (BIC)         6316.985\n\nRoot Mean Square Error of Approximation:\n\n  RMSEA                                          0.028\n  90 Percent Confidence Interval          0.000  0.052\n  P-value RMSEA <= 0.05                          0.936\n\nStandardized Root Mean Square Residual:\n\n  SRMR                                           0.037\n\nParameter Estimates:\n\n  Information                                 Expected\n  Information saturated (h1) model          Structured\n  Standard Errors                             Standard\n\nLatent Variables:\n                   Estimate  Std.Err  z-value  P(>|z|)   Std.lv  Std.all\n  Construc =~                                                           \n    beliefs           1.000                               0.460    0.648\n    selftalk          1.056    0.178    5.922    0.000    0.486    0.433\n    imagery           1.890    0.331    5.717    0.000    0.870    0.870\n  Dysfunc =~                                                            \n    perform1          1.000                               0.485    0.830\n    perform2          1.133    0.080   14.105    0.000    0.549    0.904\n    approval          0.993    0.089   11.175    0.000    0.481    0.660\n  WellBe =~                                                             \n    happy             1.000                               0.376    0.671\n    mood1             1.490    0.219    6.799    0.000    0.561    0.739\n    mood2             0.821    0.126    6.535    0.000    0.309    0.591\n  JobSat =~                                                             \n    work1             1.000                               0.786    0.839\n    work2             1.035    0.081   12.770    0.000    0.814    0.802\n    work3             0.891    0.073   12.145    0.000    0.700    0.749\n\nCovariances:\n                   Estimate  Std.Err  z-value  P(>|z|)   Std.lv  Std.all\n .happy ~~                                                              \n   .mood2            -0.043    0.018   -2.390    0.017   -0.043   -0.243\n  Construc ~~                                                           \n    Dysfunc          -0.028    0.017   -1.637    0.102   -0.124   -0.124\n    WellBe            0.024    0.014    1.685    0.092    0.140    0.140\n    JobSat            0.060    0.029    2.090    0.037    0.165    0.165\n  Dysfunc ~~                                                            \n    WellBe           -0.088    0.017   -5.139    0.000   -0.480   -0.480\n    JobSat           -0.131    0.030   -4.448    0.000   -0.344   -0.344\n  WellBe ~~                                                             \n    JobSat            0.138    0.028    5.011    0.000    0.466    0.466\n\nVariances:\n                   Estimate  Std.Err  z-value  P(>|z|)   Std.lv  Std.all\n   .beliefs           0.292    0.043    6.862    0.000    0.292    0.580\n   .selftalk          1.022    0.097   10.496    0.000    1.022    0.812\n   .imagery           0.242    0.123    1.965    0.049    0.242    0.242\n   .perform1          0.106    0.016    6.783    0.000    0.106    0.311\n   .perform2          0.068    0.017    3.975    0.000    0.068    0.183\n   .approval          0.300    0.029   10.186    0.000    0.300    0.564\n   .happy             0.173    0.025    6.877    0.000    0.173    0.550\n   .mood1             0.261    0.044    5.970    0.000    0.261    0.453\n   .mood2             0.178    0.022    8.133    0.000    0.178    0.651\n   .work1             0.260    0.042    6.231    0.000    0.260    0.297\n   .work2             0.368    0.050    7.394    0.000    0.368    0.357\n   .work3             0.384    0.044    8.692    0.000    0.384    0.439\n    Construc          0.212    0.049    4.285    0.000    1.000    1.000\n    Dysfunc           0.235    0.031    7.598    0.000    1.000    1.000\n    WellBe            0.142    0.031    4.643    0.000    1.000    1.000\n    JobSat            0.618    0.081    7.616    0.000    1.000    1.000\n\nR-Square:\n                   Estimate\n    beliefs           0.420\n    selftalk          0.188\n    imagery           0.758\n    perform1          0.689\n    perform2          0.817\n    approval          0.436\n    happy             0.450\n    mood1             0.547\n    mood2             0.349\n    work1             0.703\n    work2             0.643\n    work3             0.561\n\n",
          "name": "stdout"
        }
      ]
    },
    {
      "metadata": {},
      "cell_type": "markdown",
      "source": "## Step 2. SR"
    },
    {
      "metadata": {
        "trusted": true
      },
      "cell_type": "code",
      "source": "#Specify Model \n\nex10.3mod <- 'Construc =~ beliefs + selftalk + imagery\n\t\t\t  Dysfunc =~ perform1 + perform2 + approval\n\t\t\t  WellBe =~ happy + mood1 + mood2\n\t\t\t  JobSat =~ work1 + work2 + work3\n\t\t\t  happy ~~ mood2\n\t\t\t  Dysfunc ~ Construc\n\t\t\t  WellBe ~ Dysfunc + Construc\n\t\t\t  JobSat ~ WellBe + Dysfunc + Construc\n\t\t\t '\n",
      "execution_count": 13,
      "outputs": []
    },
    {
      "metadata": {
        "trusted": true
      },
      "cell_type": "code",
      "source": "#Fit Model \nfitex10.3mod <- sem(ex10.3mod, sample.cov=myvarcov, meanstructure=FALSE, sample.nobs=nObs, fixed.x=TRUE, std.lv=FALSE)\n",
      "execution_count": 14,
      "outputs": []
    },
    {
      "metadata": {
        "trusted": true,
        "scrolled": false
      },
      "cell_type": "code",
      "source": "summary(fitex10.3mod, standardized=TRUE, fit.measures=TRUE, rsquare=TRUE)",
      "execution_count": 15,
      "outputs": [
        {
          "output_type": "stream",
          "text": "lavaan 0.6-3 ended normally after 48 iterations\n\n  Optimization method                           NLMINB\n  Number of free parameters                         31\n\n  Number of observations                           263\n\n  Estimator                                         ML\n  Model Fit Test Statistic                      56.662\n  Degrees of freedom                                47\n  P-value (Chi-square)                           0.158\n\nModel test baseline model:\n\n  Minimum Function Test Statistic             1087.490\n  Degrees of freedom                                66\n  P-value                                        0.000\n\nUser model versus baseline model:\n\n  Comparative Fit Index (CFI)                    0.991\n  Tucker-Lewis Index (TLI)                       0.987\n\nLoglikelihood and Information Criteria:\n\n  Loglikelihood user model (H0)              -3121.267\n  Loglikelihood unrestricted model (H1)      -3092.936\n\n  Number of free parameters                         31\n  Akaike (AIC)                                6304.534\n  Bayesian (BIC)                              6415.270\n  Sample-size adjusted Bayesian (BIC)         6316.985\n\nRoot Mean Square Error of Approximation:\n\n  RMSEA                                          0.028\n  90 Percent Confidence Interval          0.000  0.052\n  P-value RMSEA <= 0.05                          0.936\n\nStandardized Root Mean Square Residual:\n\n  SRMR                                           0.037\n\nParameter Estimates:\n\n  Information                                 Expected\n  Information saturated (h1) model          Structured\n  Standard Errors                             Standard\n\nLatent Variables:\n                   Estimate  Std.Err  z-value  P(>|z|)   Std.lv  Std.all\n  Construc =~                                                           \n    beliefs           1.000                               0.460    0.648\n    selftalk          1.056    0.178    5.922    0.000    0.486    0.433\n    imagery           1.890    0.331    5.717    0.000    0.870    0.870\n  Dysfunc =~                                                            \n    perform1          1.000                               0.485    0.830\n    perform2          1.133    0.080   14.105    0.000    0.549    0.904\n    approval          0.993    0.089   11.175    0.000    0.481    0.660\n  WellBe =~                                                             \n    happy             1.000                               0.376    0.671\n    mood1             1.490    0.219    6.799    0.000    0.561    0.739\n    mood2             0.821    0.126    6.535    0.000    0.309    0.591\n  JobSat =~                                                             \n    work1             1.000                               0.786    0.839\n    work2             1.035    0.081   12.770    0.000    0.814    0.802\n    work3             0.891    0.073   12.145    0.000    0.700    0.749\n\nRegressions:\n                   Estimate  Std.Err  z-value  P(>|z|)   Std.lv  Std.all\n  Dysfunc ~                                                             \n    Construc         -0.131    0.078   -1.681    0.093   -0.124   -0.124\n  WellBe ~                                                              \n    Dysfunc          -0.365    0.064   -5.664    0.000   -0.470   -0.470\n    Construc          0.067    0.061    1.096    0.273    0.082    0.082\n  JobSat ~                                                              \n    WellBe            0.797    0.202    3.946    0.000    0.382    0.382\n    Dysfunc          -0.242    0.130   -1.863    0.063   -0.149   -0.149\n    Construc          0.160    0.120    1.331    0.183    0.093    0.093\n\nCovariances:\n                   Estimate  Std.Err  z-value  P(>|z|)   Std.lv  Std.all\n .happy ~~                                                              \n   .mood2            -0.043    0.018   -2.390    0.017   -0.043   -0.243\n\nVariances:\n                   Estimate  Std.Err  z-value  P(>|z|)   Std.lv  Std.all\n   .beliefs           0.292    0.043    6.862    0.000    0.292    0.580\n   .selftalk          1.022    0.097   10.496    0.000    1.022    0.812\n   .imagery           0.242    0.123    1.965    0.049    0.242    0.242\n   .perform1          0.106    0.016    6.783    0.000    0.106    0.311\n   .perform2          0.068    0.017    3.975    0.000    0.068    0.183\n   .approval          0.300    0.029   10.186    0.000    0.300    0.564\n   .happy             0.173    0.025    6.877    0.000    0.173    0.550\n   .mood1             0.261    0.044    5.970    0.000    0.261    0.453\n   .mood2             0.178    0.022    8.133    0.000    0.178    0.651\n   .work1             0.260    0.042    6.231    0.000    0.260    0.297\n   .work2             0.368    0.050    7.394    0.000    0.368    0.357\n   .work3             0.384    0.044    8.692    0.000    0.384    0.439\n    Construc          0.212    0.049    4.285    0.000    1.000    1.000\n   .Dysfunc           0.231    0.031    7.579    0.000    0.985    0.985\n   .WellBe            0.108    0.025    4.398    0.000    0.763    0.763\n   .JobSat            0.467    0.066    7.063    0.000    0.755    0.755\n\nR-Square:\n                   Estimate\n    beliefs           0.420\n    selftalk          0.188\n    imagery           0.758\n    perform1          0.689\n    perform2          0.817\n    approval          0.436\n    happy             0.450\n    mood1             0.547\n    mood2             0.349\n    work1             0.703\n    work2             0.643\n    work3             0.561\n    Dysfunc           0.015\n    WellBe            0.237\n    JobSat            0.245\n\n",
          "name": "stdout"
        }
      ]
    },
    {
      "metadata": {
        "trusted": true
      },
      "cell_type": "code",
      "source": "",
      "execution_count": null,
      "outputs": []
    },
    {
      "metadata": {
        "trusted": true
      },
      "cell_type": "code",
      "source": "",
      "execution_count": null,
      "outputs": []
    },
    {
      "metadata": {
        "trusted": true
      },
      "cell_type": "code",
      "source": "",
      "execution_count": null,
      "outputs": []
    },
    {
      "metadata": {
        "trusted": true
      },
      "cell_type": "code",
      "source": "",
      "execution_count": null,
      "outputs": []
    }
  ],
  "metadata": {
    "kernelspec": {
      "name": "r",
      "display_name": "R",
      "language": "R"
    },
    "language_info": {
      "mimetype": "text/x-r-source",
      "name": "R",
      "pygments_lexer": "r",
      "version": "3.5.3",
      "file_extension": ".r",
      "codemirror_mode": "r"
    }
  },
  "nbformat": 4,
  "nbformat_minor": 2
}