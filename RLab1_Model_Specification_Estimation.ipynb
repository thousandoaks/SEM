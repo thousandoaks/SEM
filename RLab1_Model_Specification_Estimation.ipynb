{
 "cells": [
  {
   "cell_type": "code",
   "execution_count": 2,
   "metadata": {},
   "outputs": [
    {
     "name": "stderr",
     "output_type": "stream",
     "text": [
      "Installing package into ‘/home/nbuser/R’\n",
      "(as ‘lib’ is unspecified)\n"
     ]
    }
   ],
   "source": [
    "install.packages(\"lavaan\", dependencies = TRUE)"
   ]
  },
  {
   "cell_type": "code",
   "execution_count": 3,
   "metadata": {},
   "outputs": [
    {
     "name": "stderr",
     "output_type": "stream",
     "text": [
      "This is lavaan 0.6-1\n",
      "lavaan is BETA software! Please report any bugs.\n"
     ]
    }
   ],
   "source": [
    "library(lavaan)"
   ]
  },
  {
   "cell_type": "code",
   "execution_count": 4,
   "metadata": {},
   "outputs": [],
   "source": [
    "\n",
    "dat<-read.csv(\"https://github.com/thousandoaks/SEM/blob/master/SEM_02_1_Intro_to_Lavaan_data.csv?raw=true\")\n",
    "\n",
    "\n"
   ]
  },
  {
   "cell_type": "code",
   "execution_count": 5,
   "metadata": {},
   "outputs": [
    {
     "data": {
      "text/html": [
       "<table>\n",
       "<thead><tr><th scope=col>x1</th><th scope=col>y1</th><th scope=col>y2</th><th scope=col>y3</th></tr></thead>\n",
       "<tbody>\n",
       "\t<tr><td>53.40900 </td><td>60.67103 </td><td>1.0387974</td><td>51       </td></tr>\n",
       "\t<tr><td>37.03745 </td><td>40.94291 </td><td>0.4775924</td><td>31       </td></tr>\n",
       "\t<tr><td>53.69565 </td><td>50.98805 </td><td>0.9489357</td><td>71       </td></tr>\n",
       "\t<tr><td>53.69565 </td><td>61.15633 </td><td>1.1949002</td><td>64       </td></tr>\n",
       "\t<tr><td>51.95985 </td><td>46.66807 </td><td>1.2981890</td><td>68       </td></tr>\n",
       "\t<tr><td>51.95985 </td><td>39.82357 </td><td>1.1734866</td><td>34       </td></tr>\n",
       "</tbody>\n",
       "</table>\n"
      ],
      "text/latex": [
       "\\begin{tabular}{r|llll}\n",
       " x1 & y1 & y2 & y3\\\\\n",
       "\\hline\n",
       "\t 53.40900  & 60.67103  & 1.0387974 & 51       \\\\\n",
       "\t 37.03745  & 40.94291  & 0.4775924 & 31       \\\\\n",
       "\t 53.69565  & 50.98805  & 0.9489357 & 71       \\\\\n",
       "\t 53.69565  & 61.15633  & 1.1949002 & 64       \\\\\n",
       "\t 51.95985  & 46.66807  & 1.2981890 & 68       \\\\\n",
       "\t 51.95985  & 39.82357  & 1.1734866 & 34       \\\\\n",
       "\\end{tabular}\n"
      ],
      "text/markdown": [
       "\n",
       "x1 | y1 | y2 | y3 | \n",
       "|---|---|---|---|---|---|\n",
       "| 53.40900  | 60.67103  | 1.0387974 | 51        | \n",
       "| 37.03745  | 40.94291  | 0.4775924 | 31        | \n",
       "| 53.69565  | 50.98805  | 0.9489357 | 71        | \n",
       "| 53.69565  | 61.15633  | 1.1949002 | 64        | \n",
       "| 51.95985  | 46.66807  | 1.2981890 | 68        | \n",
       "| 51.95985  | 39.82357  | 1.1734866 | 34        | \n",
       "\n",
       "\n"
      ],
      "text/plain": [
       "  x1       y1       y2        y3\n",
       "1 53.40900 60.67103 1.0387974 51\n",
       "2 37.03745 40.94291 0.4775924 31\n",
       "3 53.69565 50.98805 0.9489357 71\n",
       "4 53.69565 61.15633 1.1949002 64\n",
       "5 51.95985 46.66807 1.2981890 68\n",
       "6 51.95985 39.82357 1.1734866 34"
      ]
     },
     "metadata": {},
     "output_type": "display_data"
    }
   ],
   "source": [
    "head(dat)"
   ]
  },
  {
   "cell_type": "code",
   "execution_count": 15,
   "metadata": {},
   "outputs": [],
   "source": [
    "# Step 1: Specify model\n",
    "mod.1 <- 'y1 ~ x1\n",
    "          y2 ~ x1\n",
    "          y3 ~ y1 + y2'"
   ]
  },
  {
   "cell_type": "code",
   "execution_count": 16,
   "metadata": {},
   "outputs": [
    {
     "name": "stderr",
     "output_type": "stream",
     "text": [
      "Warning message in lav_data_full(data = data, group = group, cluster = cluster, :\n",
      "“lavaan WARNING: some observed variances are (at least) a factor 1000 times larger than others; use varTable(fit) to investigate”"
     ]
    }
   ],
   "source": [
    "# Step 2: Estimate model\n",
    "mod.1.fit <- sem(mod.1, data=dat)\n"
   ]
  },
  {
   "cell_type": "code",
   "execution_count": 8,
   "metadata": {},
   "outputs": [
    {
     "name": "stdout",
     "output_type": "stream",
     "text": [
      "lavaan (0.6-1) converged normally after  33 iterations\n",
      "\n",
      "  Number of observations                            90\n",
      "\n",
      "  Estimator                                         ML\n",
      "  Model Fit Test Statistic                      17.729\n",
      "  Degrees of freedom                                 2\n",
      "  P-value (Chi-square)                           0.000\n",
      "\n",
      "Parameter Estimates:\n",
      "\n",
      "  Information                                 Expected\n",
      "  Information saturated (h1) model          Structured\n",
      "  Standard Errors                             Standard\n",
      "\n",
      "Regressions:\n",
      "                   Estimate  Std.Err  z-value  P(>|z|)\n",
      "  y1 ~                                                \n",
      "    x1                0.400    0.081    4.911    0.000\n",
      "  y2 ~                                                \n",
      "    x1                0.009    0.004    2.381    0.017\n",
      "  y3 ~                                                \n",
      "    y1                0.935    0.171    5.475    0.000\n",
      "    y2               12.898    4.132    3.121    0.002\n",
      "\n",
      "Variances:\n",
      "                   Estimate  Std.Err  z-value  P(>|z|)\n",
      "   .y1               45.989    6.856    6.708    0.000\n",
      "   .y2                0.094    0.014    6.708    0.000\n",
      "   .y3              151.029   22.514    6.708    0.000\n",
      "\n"
     ]
    }
   ],
   "source": [
    "# Step 3: Extract results\n",
    "summary(mod.1.fit) "
   ]
  },
  {
   "cell_type": "code",
   "execution_count": 17,
   "metadata": {},
   "outputs": [
    {
     "data": {
      "text/html": [
       "<table>\n",
       "<thead><tr><th scope=col>name</th><th scope=col>idx</th><th scope=col>nobs</th><th scope=col>type</th><th scope=col>exo</th><th scope=col>user</th><th scope=col>mean</th><th scope=col>var</th><th scope=col>nlev</th><th scope=col>lnam</th></tr></thead>\n",
       "<tbody>\n",
       "\t<tr><td>y1         </td><td>2          </td><td>90         </td><td>numeric    </td><td>0          </td><td>0          </td><td>49.2390250 </td><td> 58.9687166</td><td>0          </td><td>           </td></tr>\n",
       "\t<tr><td>y2         </td><td>3          </td><td>90         </td><td>numeric    </td><td>0          </td><td>0          </td><td> 0.6912317 </td><td>  0.1006379</td><td>0          </td><td>           </td></tr>\n",
       "\t<tr><td>y3         </td><td>4          </td><td>90         </td><td>numeric    </td><td>0          </td><td>0          </td><td>49.2333333 </td><td>228.1808989</td><td>0          </td><td>           </td></tr>\n",
       "\t<tr><td>x1         </td><td>1          </td><td>90         </td><td>numeric    </td><td>1          </td><td>0          </td><td>49.2345833 </td><td> 77.9597236</td><td>0          </td><td>           </td></tr>\n",
       "</tbody>\n",
       "</table>\n"
      ],
      "text/latex": [
       "\\begin{tabular}{r|llllllllll}\n",
       " name & idx & nobs & type & exo & user & mean & var & nlev & lnam\\\\\n",
       "\\hline\n",
       "\t y1          & 2           & 90          & numeric     & 0           & 0           & 49.2390250  &  58.9687166 & 0           &            \\\\\n",
       "\t y2          & 3           & 90          & numeric     & 0           & 0           &  0.6912317  &   0.1006379 & 0           &            \\\\\n",
       "\t y3          & 4           & 90          & numeric     & 0           & 0           & 49.2333333  & 228.1808989 & 0           &            \\\\\n",
       "\t x1          & 1           & 90          & numeric     & 1           & 0           & 49.2345833  &  77.9597236 & 0           &            \\\\\n",
       "\\end{tabular}\n"
      ],
      "text/markdown": [
       "\n",
       "name | idx | nobs | type | exo | user | mean | var | nlev | lnam | \n",
       "|---|---|---|---|\n",
       "| y1          | 2           | 90          | numeric     | 0           | 0           | 49.2390250  |  58.9687166 | 0           |             | \n",
       "| y2          | 3           | 90          | numeric     | 0           | 0           |  0.6912317  |   0.1006379 | 0           |             | \n",
       "| y3          | 4           | 90          | numeric     | 0           | 0           | 49.2333333  | 228.1808989 | 0           |             | \n",
       "| x1          | 1           | 90          | numeric     | 1           | 0           | 49.2345833  |  77.9597236 | 0           |             | \n",
       "\n",
       "\n"
      ],
      "text/plain": [
       "  name idx nobs type    exo user mean       var         nlev lnam\n",
       "1 y1   2   90   numeric 0   0    49.2390250  58.9687166 0        \n",
       "2 y2   3   90   numeric 0   0     0.6912317   0.1006379 0        \n",
       "3 y3   4   90   numeric 0   0    49.2333333 228.1808989 0        \n",
       "4 x1   1   90   numeric 1   0    49.2345833  77.9597236 0        "
      ]
     },
     "metadata": {},
     "output_type": "display_data"
    }
   ],
   "source": [
    "varTable(mod.1.fit)"
   ]
  },
  {
   "cell_type": "markdown",
   "metadata": {},
   "source": [
    "### Let's fix the problem (by scaling variables)"
   ]
  },
  {
   "cell_type": "code",
   "execution_count": 9,
   "metadata": {},
   "outputs": [],
   "source": [
    "## Recode vars to roughly same scale\n",
    "x1 <- dat$x1/100\n",
    "y1 <- dat$y1/100\n",
    "y2 <- dat$y2\n",
    "y3 <- dat$y3/100"
   ]
  },
  {
   "cell_type": "code",
   "execution_count": 10,
   "metadata": {},
   "outputs": [
    {
     "data": {
      "text/plain": [
       "       x1               y1               y2                y3        \n",
       " Min.   :0.3704   Min.   :0.3259   Min.   :0.05558   Min.   :0.1500  \n",
       " 1st Qu.:0.3946   1st Qu.:0.4381   1st Qu.:0.48769   1st Qu.:0.3700  \n",
       " Median :0.5177   Median :0.4804   Median :0.63712   Median :0.5000  \n",
       " Mean   :0.4923   Mean   :0.4924   Mean   :0.69123   Mean   :0.4923  \n",
       " 3rd Qu.:0.5840   3rd Qu.:0.5490   3rd Qu.:0.91468   3rd Qu.:0.6200  \n",
       " Max.   :0.6072   Max.   :0.7046   Max.   :1.53541   Max.   :0.8500  "
      ]
     },
     "metadata": {},
     "output_type": "display_data"
    }
   ],
   "source": [
    "### Create Transformed Dataset\n",
    "# overwrite file with recoded data\n",
    "t.dat <- data.frame(x1, y1, y2, y3)\n",
    "summary(t.dat)"
   ]
  },
  {
   "cell_type": "code",
   "execution_count": 11,
   "metadata": {},
   "outputs": [],
   "source": [
    "##### Repeat Lavaan modeling\n",
    "\n",
    "# Step 1: Specify model\n",
    "mod.1 <- 'y1 ~ x1\n",
    "          y2 ~ x1\n",
    "          y3 ~ y1 + y2'"
   ]
  },
  {
   "cell_type": "code",
   "execution_count": 12,
   "metadata": {},
   "outputs": [],
   "source": [
    "# Step 2: Estimate model\n",
    "mod.1.fit <- sem(mod.1, data=t.dat)"
   ]
  },
  {
   "cell_type": "code",
   "execution_count": 13,
   "metadata": {},
   "outputs": [
    {
     "name": "stdout",
     "output_type": "stream",
     "text": [
      "lavaan (0.6-1) converged normally after  27 iterations\n",
      "\n",
      "  Number of observations                            90\n",
      "\n",
      "  Estimator                                         ML\n",
      "  Model Fit Test Statistic                      17.729\n",
      "  Degrees of freedom                                 2\n",
      "  P-value (Chi-square)                           0.000\n",
      "\n",
      "Parameter Estimates:\n",
      "\n",
      "  Information                                 Expected\n",
      "  Information saturated (h1) model          Structured\n",
      "  Standard Errors                             Standard\n",
      "\n",
      "Regressions:\n",
      "                   Estimate  Std.Err  z-value  P(>|z|)\n",
      "  y1 ~                                                \n",
      "    x1                0.400    0.081    4.911    0.000\n",
      "  y2 ~                                                \n",
      "    x1                0.875    0.367    2.381    0.017\n",
      "  y3 ~                                                \n",
      "    y1                0.935    0.171    5.475    0.000\n",
      "    y2                0.129    0.041    3.121    0.002\n",
      "\n",
      "Variances:\n",
      "                   Estimate  Std.Err  z-value  P(>|z|)\n",
      "   .y1                0.005    0.001    6.708    0.000\n",
      "   .y2                0.094    0.014    6.708    0.000\n",
      "   .y3                0.015    0.002    6.708    0.000\n",
      "\n"
     ]
    }
   ],
   "source": [
    "# Step 3: Extract results\n",
    "summary(mod.1.fit) \n"
   ]
  },
  {
   "cell_type": "markdown",
   "metadata": {},
   "source": [
    "### The model so far is incorrect (the small p-value indicates a discrepancy between the data and the model)"
   ]
  },
  {
   "cell_type": "code",
   "execution_count": null,
   "metadata": {},
   "outputs": [],
   "source": []
  },
  {
   "cell_type": "code",
   "execution_count": null,
   "metadata": {},
   "outputs": [],
   "source": []
  },
  {
   "cell_type": "code",
   "execution_count": null,
   "metadata": {},
   "outputs": [],
   "source": []
  },
  {
   "cell_type": "code",
   "execution_count": null,
   "metadata": {},
   "outputs": [],
   "source": []
  }
 ],
 "metadata": {
  "kernelspec": {
   "display_name": "R",
   "language": "R",
   "name": "r"
  },
  "language_info": {
   "codemirror_mode": "r",
   "file_extension": ".r",
   "mimetype": "text/x-r-source",
   "name": "R",
   "pygments_lexer": "r",
   "version": "3.4.1"
  }
 },
 "nbformat": 4,
 "nbformat_minor": 2
}
