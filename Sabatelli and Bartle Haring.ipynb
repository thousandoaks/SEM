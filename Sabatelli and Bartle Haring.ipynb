{
  "cells": [
    {
      "metadata": {
        "trusted": true
      },
      "cell_type": "code",
      "source": "library(lavaan)",
      "execution_count": 1,
      "outputs": [
        {
          "output_type": "stream",
          "text": "This is lavaan 0.6-3\nlavaan is BETA software! Please report any bugs.\n",
          "name": "stderr"
        }
      ]
    },
    {
      "metadata": {
        "trusted": true
      },
      "cell_type": "code",
      "source": "",
      "execution_count": null,
      "outputs": []
    },
    {
      "metadata": {
        "trusted": true
      },
      "cell_type": "code",
      "source": "#Read in data and prep\n\nex9.7dat <-scan('https://www.guilford.com/add/kline_old/chapter9/mplus/sabatelli-mplus.dat')\ng1sds <- scan(\"http://www.guilford.com/add/kline_old/chapter9/mplus/sabatelli-mplus.dat\", skip=0, nlines=1)\ng1cors <- scan(\"http://www.guilford.com/add/kline_old/chapter9/mplus/sabatelli-mplus.dat\", skip=1, nlines=5)\ng2sds <- scan(\"http://www.guilford.com/add/kline_old/chapter9/mplus/sabatelli-mplus.dat\", skip=6, nlines=1)\ng2cors <- scan(\"http://www.guilford.com/add/kline_old/chapter9/mplus/sabatelli-mplus.dat\", skip=7,nlines=6)\n\n",
      "execution_count": 5,
      "outputs": []
    },
    {
      "metadata": {
        "trusted": true
      },
      "cell_type": "code",
      "source": "",
      "execution_count": null,
      "outputs": []
    },
    {
      "metadata": {
        "trusted": true
      },
      "cell_type": "code",
      "source": "#push into correlation matrix, lower triangle\nxindex <- c(0, 1, 3, 6, 10)\ng1myvarcov <- outer(1:5, 1:5, FUN = function(X, Y) ifelse(Y <= X, g1cors[Y + xindex[X]], 0))\ng2myvarcov <- outer(1:5, 1:5, FUN = function(X, Y) ifelse(Y <= X, g2cors[Y + xindex[X]], 0))\n",
      "execution_count": 6,
      "outputs": []
    },
    {
      "metadata": {
        "trusted": true
      },
      "cell_type": "code",
      "source": "mynames <- c(\"problems\", \"intimacy\", \"father\", \"mother\", \"fa_mo\")\ncolnames(g1myvarcov) <- mynames\nrownames(g1myvarcov) <- mynames\ncolnames(g2myvarcov) <- mynames\nrownames(g2myvarcov) <- mynames",
      "execution_count": 7,
      "outputs": []
    },
    {
      "metadata": {
        "trusted": true
      },
      "cell_type": "code",
      "source": "##Create covariance matrices\nmycov <- list()\n\ng1varcov <- outer(g1sds, g1sds, FUN=\"*\")\nmycov[[\"g1\"]] <- g1myvarcov*g1varcov\n\ng2varcov <- outer(g2sds, g2sds, FUN=\"*\")\nmycov[[\"g2\"]] <- g2myvarcov * g2varcov\n\nnObs <- list()\nnObs[[\"g1\"]] <- 103\nnObs[[\"g2\"]] <- 103\n###########################################\n",
      "execution_count": 8,
      "outputs": []
    },
    {
      "metadata": {
        "trusted": true
      },
      "cell_type": "code",
      "source": "#Fit model : Figure 9.7 but with error correlation, Table 9.8\n\nmod1ex9.7 <- 'Marital =~ problems + intimacy\n\t\t\t  FOE =~ father + mother + fa_mo\n\t\t\t  father ~~ mother'\n\t\t\t  \nfitboth9.7 <- cfa(mod1ex9.7, sample.cov=mycov, meanstructure=FALSE, sample.nobs=nObs, fixed.x=TRUE, std.lv=FALSE, group.equal=c(\"loadings\", \"residuals\"))",
      "execution_count": 9,
      "outputs": []
    },
    {
      "metadata": {
        "trusted": true,
        "scrolled": false
      },
      "cell_type": "code",
      "source": "summary(fitboth9.7, standardized=TRUE, fit.measures=TRUE, rsquare=TRUE)",
      "execution_count": 10,
      "outputs": [
        {
          "output_type": "stream",
          "text": "lavaan 0.6-3 ended normally after 239 iterations\n\n  Optimization method                           NLMINB\n  Number of free parameters                         24\n  Number of equality constraints                     8\n\n  Number of observations per group         \n  g1                                               103\n  g2                                               103\n\n  Estimator                                         ML\n  Model Fit Test Statistic                       7.167\n  Degrees of freedom                                14\n  P-value (Chi-square)                           0.928\n\nChi-square for each group:\n\n  g1                                             1.966\n  g2                                             5.200\n\nModel test baseline model:\n\n  Minimum Function Test Statistic              420.864\n  Degrees of freedom                                20\n  P-value                                        0.000\n\nUser model versus baseline model:\n\n  Comparative Fit Index (CFI)                    1.000\n  Tucker-Lewis Index (TLI)                       1.024\n\nLoglikelihood and Information Criteria:\n\n  Loglikelihood user model (H0)              -4174.703\n  Loglikelihood unrestricted model (H1)      -4171.120\n\n  Number of free parameters                         16\n  Akaike (AIC)                                8381.407\n  Bayesian (BIC)                              8434.653\n  Sample-size adjusted Bayesian (BIC)         8383.958\n\nRoot Mean Square Error of Approximation:\n\n  RMSEA                                          0.000\n  90 Percent Confidence Interval          0.000  0.029\n  P-value RMSEA <= 0.05                          0.975\n\nStandardized Root Mean Square Residual:\n\n  SRMR                                           0.026\n\nParameter Estimates:\n\n  Information                                 Expected\n  Information saturated (h1) model          Structured\n  Standard Errors                             Standard\n\n\nGroup 1 [g1]:\n\nLatent Variables:\n                   Estimate  Std.Err  z-value  P(>|z|)   Std.lv  Std.all\n  Marital =~                                                            \n    problms           1.000                              21.160    0.685\n    intimcy (.p2.)    0.933    0.145    6.426    0.000   19.745    0.988\n  FOE =~                                                                \n    father            1.000                               9.330    0.841\n    mother  (.p4.)    0.885    0.079   11.208    0.000    8.259    0.698\n    fa_mo   (.p5.)    0.897    0.142    6.301    0.000    8.369    0.648\n\nCovariances:\n                   Estimate  Std.Err  z-value  P(>|z|)   Std.lv  Std.all\n .father ~~                                                             \n   .mother          -12.495   15.141   -0.825    0.409  -12.495   -0.246\n  Marital ~~                                                            \n    FOE              92.163   27.449    3.358    0.001    0.467    0.467\n\nVariances:\n                   Estimate  Std.Err  z-value  P(>|z|)   Std.lv  Std.all\n   .problms (.p7.)  505.247   87.123    5.799    0.000  505.247    0.530\n   .intimcy (.p8.)    9.593   62.262    0.154    0.878    9.593    0.024\n   .father  (.p9.)   35.897   16.682    2.152    0.031   35.897    0.292\n   .mother  (.10.)   71.708   16.293    4.401    0.000   71.708    0.513\n   .fa_mo   (.11.)   96.918   16.028    6.047    0.000   96.918    0.580\n    Marital         447.750  103.599    4.322    0.000    1.000    1.000\n    FOE              87.043   21.126    4.120    0.000    1.000    1.000\n\nR-Square:\n                   Estimate\n    problems          0.470\n    intimacy          0.976\n    father            0.708\n    mother            0.487\n    fa_mo             0.420\n\n\nGroup 2 [g2]:\n\nLatent Variables:\n                   Estimate  Std.Err  z-value  P(>|z|)   Std.lv  Std.all\n  Marital =~                                                            \n    problms           1.000                              24.042    0.730\n    intimcy (.p2.)    0.933    0.145    6.426    0.000   22.434    0.991\n  FOE =~                                                                \n    father            1.000                              11.904    0.893\n    mother  (.p4.)    0.885    0.079   11.208    0.000   10.538    0.779\n    fa_mo   (.p5.)    0.897    0.142    6.301    0.000   10.678    0.735\n\nCovariances:\n                   Estimate  Std.Err  z-value  P(>|z|)   Std.lv  Std.all\n .father ~~                                                             \n   .mother           16.192   15.407    1.051    0.293   16.192    0.319\n  Marital ~~                                                            \n    FOE             138.179   40.152    3.441    0.001    0.483    0.483\n\nVariances:\n                   Estimate  Std.Err  z-value  P(>|z|)   Std.lv  Std.all\n   .problms (.p7.)  505.247   87.123    5.799    0.000  505.247    0.466\n   .intimcy (.p8.)    9.593   62.262    0.154    0.878    9.593    0.019\n   .father  (.p9.)   35.897   16.682    2.152    0.031   35.897    0.202\n   .mother  (.10.)   71.708   16.293    4.401    0.000   71.708    0.392\n   .fa_mo   (.11.)   96.918   16.028    6.047    0.000   96.918    0.459\n    Marital         578.018  144.704    3.994    0.000    1.000    1.000\n    FOE             141.712   29.970    4.728    0.000    1.000    1.000\n\nR-Square:\n                   Estimate\n    problems          0.534\n    intimacy          0.981\n    father            0.798\n    mother            0.608\n    fa_mo             0.541\n\n",
          "name": "stdout"
        }
      ]
    },
    {
      "metadata": {
        "trusted": true
      },
      "cell_type": "code",
      "source": "",
      "execution_count": null,
      "outputs": []
    }
  ],
  "metadata": {
    "kernelspec": {
      "name": "r",
      "display_name": "R",
      "language": "R"
    },
    "language_info": {
      "mimetype": "text/x-r-source",
      "name": "R",
      "pygments_lexer": "r",
      "version": "3.5.3",
      "file_extension": ".r",
      "codemirror_mode": "r"
    }
  },
  "nbformat": 4,
  "nbformat_minor": 2
}